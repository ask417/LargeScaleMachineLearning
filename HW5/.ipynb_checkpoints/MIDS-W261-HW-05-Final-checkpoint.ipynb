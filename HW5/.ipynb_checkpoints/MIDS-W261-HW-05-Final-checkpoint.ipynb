{
 "cells": [
  {
   "cell_type": "markdown",
   "metadata": {},
   "source": [
    "# MIDS - w261 Machine Learning At Scale\n",
    "__Course Lead:__ Dr James G. Shanahan (__email__ Jimi via  James.Shanahan _AT_ gmail.com)\n",
    "\n",
    "## Assignment - HW5\n",
    "\n",
    "\n",
    "---\n",
    "__Name:__  Anthony Spalvieri-Kruse   \n",
    "__Class:__ MIDS w261 Fall 2016 Group 1  \n",
    "__Email:__  ask@iSchool.Berkeley.edu     \n",
    "__Week:__   5\n",
    "\n",
    "__Due Time:__ 2 Phases. \n",
    "\n",
    "* __HW5 Phase 1__ \n",
    "This can be done on a local machine (with a unit test on the cloud such as AltaScale's PaaS or on AWS) and is due Tuesday, Week 6 by 8AM (West coast time). It will primarily focus on building a unit/systems and for pairwise similarity calculations pipeline (for stripe documents)\n",
    "\n",
    "* __HW5 Phase 2__ \n",
    "This will require the AltaScale cluster and will be due Tuesday, Week 7 by 8AM (West coast time). \n",
    "The focus of  HW5 Phase 2  will be to scale up the unit/systems tests to the Google 5 gram corpus. This will be a group exercise \n"
   ]
  },
  {
   "cell_type": "markdown",
   "metadata": {},
   "source": [
    "# Table of Contents <a name=\"TOC\"></a> \n",
    "\n",
    "1.  [HW Intructions](#1)   \n",
    "2.  [HW References](#2)\n",
    "3.  [HW Problems](#3)   \n",
    "1.  [HW Introduction](#1)   \n",
    "2.  [HW References](#2)\n",
    "3.  [HW  Problems](#3)   \n",
    "    1.0.  [HW5.0](#1.0)   \n",
    "    1.0.  [HW5.1](#1.1)   \n",
    "    1.2.  [HW5.2](#1.2)   \n",
    "    1.3.  [HW5.3](#1.3)    \n",
    "    1.4.  [HW5.4](#1.4)    \n",
    "    1.5.  [HW5.5](#1.5)    \n",
    "    1.5.  [HW5.6](#1.6)    \n",
    "    1.5.  [HW5.7](#1.7)    \n",
    "    1.5.  [HW5.8](#1.8)    \n",
    "    1.5.  [HW5.9](#1.9)    \n",
    "   "
   ]
  },
  {
   "cell_type": "markdown",
   "metadata": {},
   "source": [
    "<a name=\"1\">\n",
    "# 1 Instructions\n",
    "[Back to Table of Contents](#TOC)\n",
    "\n",
    "MIDS UC Berkeley, Machine Learning at Scale\n",
    "DATSCIW261 ASSIGNMENT #5\n",
    "\n",
    "Version 2016-09-25 \n",
    "\n",
    " === INSTRUCTIONS for SUBMISSIONS ===\n",
    "Follow the instructions for submissions carefully.\n",
    "\n",
    "https://docs.google.com/forms/d/1ZOr9RnIe_A06AcZDB6K1mJN4vrLeSmS2PD6Xm3eOiis/viewform?usp=send_form \n",
    "\n",
    "\n",
    "### IMPORTANT\n",
    "\n",
    "HW4 can be completed locally on your computer\n",
    "\n",
    "### Documents:\n",
    "* IPython Notebook, published and viewable online.\n",
    "* PDF export of IPython Notebook.\n",
    "    \n",
    "<a name=\"2\">\n",
    "# 2 Useful References\n",
    "[Back to Table of Contents](#TOC)\n",
    "\n",
    "* See async and live lectures for this week\n",
    "\n",
    "<a name=\"3\">\n",
    "# HW Problems\n",
    "[Back to Table of Contents](#TOC)"
   ]
  },
  {
   "cell_type": "markdown",
   "metadata": {},
   "source": [
    "## 3.  HW5.0  <a name=\"1.0\"></a>\n",
    "[Back to Table of Contents](#TOC)\n",
    "\n",
    "- What is a data warehouse? What is a Star schema? When is it used?"
   ]
  },
  {
   "cell_type": "code",
   "execution_count": null,
   "metadata": {
    "collapsed": true
   },
   "outputs": [],
   "source": []
  },
  {
   "cell_type": "markdown",
   "metadata": {},
   "source": [
    "## 3.  HW5.1  <a name=\"1.1\"></a>\n",
    "[Back to Table of Contents](#TOC)\n",
    "\n",
    "- In the database world What is 3NF? Does machine learning use data in 3NF? If so why? \n",
    "- In what form does ML consume data?\n",
    "- Why would one use log files that are denormalized?"
   ]
  },
  {
   "cell_type": "code",
   "execution_count": null,
   "metadata": {
    "collapsed": true
   },
   "outputs": [],
   "source": []
  },
  {
   "cell_type": "markdown",
   "metadata": {},
   "source": [
    "## 3.  HW5.2  <a name=\"1.2\"></a>\n",
    "[Back to Table of Contents](#TOC)\n",
    "\n",
    "Using MRJob, implement a hashside join (memory-backed map-side) for left, right and inner joins. Run your code on the  data used in HW 4.4: (Recall HW 4.4: Find the most frequent visitor of each page using mrjob and the output of 4.2  (i.e., transfromed log file). In this output please include the webpage URL, webpageID and Visitor ID.)\n",
    "\n",
    "Justify which table you chose as the Left table in this hashside join.\n",
    "\n",
    "Please report the number of rows resulting from:\n",
    "\n",
    "- (1) Left joining Table Left with Table Right\n",
    "- (2) Right joining Table Left with Table Right\n",
    "- (3) Inner joining Table Left with Table Right"
   ]
  },
  {
   "cell_type": "code",
   "execution_count": null,
   "metadata": {
    "collapsed": true
   },
   "outputs": [],
   "source": [
    "%%writefile hashside_joins.py\n",
    "#!/usr/bin/env python\n",
    "\n",
    "from mrjob.job import MRJob\n",
    "from mrjob.step import MRStep\n",
    "from collections import defaultdict\n",
    "import itertools\n",
    "import re\n",
    "\n",
    "class HashsideJoin(MRJob):\n",
    "\n",
    "    def configure_options(self):\n",
    "        super(HashsideJoin, self).configure_options()\n",
    "        self.add_passthrough_option(\"--join_type\", type=\"str\")\n",
    "        self.add_passthrough_option(\"--right_table_length\", type=\"int\")\n",
    "        self.add_file_option(\"--left_table\")\n",
    "    \n",
    "    def __init__(self, *args, **kwargs):\n",
    "        super(HashsideJoin, self).__init__(*args, **kwargs)\n",
    "        self.join_type = self.options.join_type\n",
    "        self.right_table_length = self.options.right_table_length\n",
    "    \n",
    "    def mapper_init(self):\n",
    "        self.urlTable = {}\n",
    "        self.keyMatch = {}\n",
    "        with open(self.options.left_table, 'r') as f:\n",
    "            for line in f:\n",
    "                line = line.strip(\"\\n\").split(\",\")\n",
    "                pageId = line[1]\n",
    "                leftTableRow = line[:1] + line[2:]\n",
    "                self.urlTable[pageId] = leftTableRow\n",
    "                self.keyMatch[pageId] = False\n",
    "\n",
    "    #Emit Only matches\n",
    "    def mapper(self, _, line):\n",
    "        line = line.strip(\"\\n\").split(\",\")\n",
    "        pageId = line[1]\n",
    "        rightTableRow = line[:1]+line[2:]\n",
    "        \n",
    "        if self.join_type == \"inner\":\n",
    "            if pageId in self.urlTable.keys():\n",
    "                value = self.urlTable[pageId] + rightTableRow\n",
    "                value = \",\".join(value)\n",
    "                yield pageId,value\n",
    "        if self.join_type == \"right\":\n",
    "            #Need to output the rightTableRow no matter what, \n",
    "            #i'm either padding with Nulls, or i'm tacking on the key match\n",
    "            if pageId in self.urlTable.keys():\n",
    "                value = self.urlTable[pageId] + rightTableRow\n",
    "                value = \",\".join(value)\n",
    "            else:\n",
    "                value = [\"null\"]*len(self.urlTable.values()[0]) + rightTableRow\n",
    "                value = \",\".join(value)\n",
    "            yield pageId, value\n",
    "        if self.join_type == \"left\":\n",
    "            if pageId in self.urlTable.keys():\n",
    "                value = self.urlTable[pageId] + rightTableRow\n",
    "                value = \",\".join(value)\n",
    "                self.keyMatch[pageId] = True\n",
    "                yield pageId,value    \n",
    "                \n",
    "    def mapper_final(self):\n",
    "        if self.join_type == \"left\":\n",
    "            for key in self.keyMatch.keys():\n",
    "                #If there were right table keys matching the left table key \n",
    "                if self.keyMatch[key] == False:\n",
    "                    #Output Null padded rows \n",
    "                    value = self.urlTable[key] + [\"null\"]*self.right_table_length\n",
    "                    value = \",\".join(value)\n",
    "                    yield key, value\n",
    "\n",
    "    def steps(self):\n",
    "        return [MRStep(mapper_init=self.mapper_init, mapper=self.mapper, mapper_final=self.mapper_final)]\n",
    "\n",
    "if __name__=='__main__':\n",
    "    HashsideJoin.run()"
   ]
  },
  {
   "cell_type": "code",
   "execution_count": null,
   "metadata": {
    "collapsed": true
   },
   "outputs": [],
   "source": [
    "!./hashside_joins.py anonymous-msweb-preprocessed.data --right_table_length 4 --join_type \"inner\" --left_table JustUrls.txt > inner.txt\n",
    "!./hashside_joins.py anonymous-msweb-preprocessed.data --right_table_length 4 --join_type \"right\" --left_table JustUrls.txt > right.txt\n",
    "!./hashside_joins.py anonymous-msweb-preprocessed.data --right_table_length 4 --join_type \"left\" --left_table JustUrls.txt > left.txt"
   ]
  },
  {
   "cell_type": "code",
   "execution_count": null,
   "metadata": {
    "collapsed": true
   },
   "outputs": [],
   "source": [
    "%%bash\n",
    "\n",
    "wc -l inner.txt\n",
    "wc -l right.txt\n",
    "wc -l left.txt"
   ]
  },
  {
   "cell_type": "markdown",
   "metadata": {},
   "source": [
    "For this exercise I chose the URL only table as my left table, because it was the smaller of the two and thus the easiest one to store into memory.  The inner and right joins have the same number of rows, which makes sense because the set of keys in the customer visit table is a subset of the keys in the url table.  This is also why the left join had the greatest number of rows."
   ]
  },
  {
   "cell_type": "markdown",
   "metadata": {},
   "source": [
    "## 3.  HW5.3 <a name=\"1.3\"></a> Systems tests on n-grams dataset (Phase1) and full experiment (Phase 2)\n",
    "[Back to Table of Contents](#TOC)\n",
    "\n",
    "## 3.  HW5.3.0 Run Systems tests locally (PHASE1)\n",
    "[Back to Table of Contents](#TOC)\n",
    "\n",
    "A large subset of the Google n-grams dataset\n",
    "\n",
    "https://aws.amazon.com/datasets/google-books-ngrams/\n",
    "\n",
    "which we have placed in a bucket/folder on Dropbox and on s3:\n",
    "\n",
    "https://www.dropbox.com/sh/tmqpc4o0xswhkvz/AACUifrl6wrMrlK6a3X3lZ9Ea?dl=0 \n",
    "\n",
    "s3://filtered-5grams/\n",
    "\n",
    "In particular, this bucket contains (~200) files (10Meg each) in the format:\n",
    "\n",
    "\t(ngram) \\t (count) \\t (pages_count) \\t (books_count)\n",
    "\n",
    "The next cell shows the first 10 lines of the googlebooks-eng-all-5gram-20090715-0-filtered.txt file.\n",
    "\n",
    "\n",
    "__DISCLAIMER__: Each record is already a 5-gram. We should calculate the stripes cooccurrence data from the raw text and not from the 5-gram preprocessed data. Calculatating pairs on this 5-gram is a little corrupt as we will be double counting cooccurences. Having said that this exercise can still pull out some simialr terms. "
   ]
  },
  {
   "cell_type": "markdown",
   "metadata": {},
   "source": [
    "#### 1: unit/systems first-10-lines"
   ]
  },
  {
   "cell_type": "code",
   "execution_count": 7,
   "metadata": {
    "collapsed": false
   },
   "outputs": [
    {
     "name": "stdout",
     "output_type": "stream",
     "text": [
      "Writing googlebooks-eng-all-5gram-20090715-0-filtered-first-10-lines.txt\n"
     ]
    }
   ],
   "source": [
    "%%writefile googlebooks-eng-all-5gram-20090715-0-filtered-first-10-lines.txt\n",
    "A BILL FOR ESTABLISHING RELIGIOUS\t59\t59\t54\n",
    "A Biography of General George\t92\t90\t74\n",
    "A Case Study in Government\t102\t102\t78\n",
    "A Case Study of Female\t447\t447\t327\n",
    "A Case Study of Limited\t55\t55\t43\n",
    "A Childs Christmas in Wales\t1099\t1061\t866\n",
    "A Circumstantial Narrative of the\t62\t62\t50\n",
    "A City by the Sea\t62\t60\t49\n",
    "A Collection of Fairy Tales\t123\t117\t80\n",
    "A Collection of Forms of\t116\t103\t82"
   ]
  },
  {
   "cell_type": "markdown",
   "metadata": {},
   "source": [
    "For _HW 5.4-5.5_,  unit test and regression test your code using the  followings small test datasets:\n",
    "\n",
    "* googlebooks-eng-all-5gram-20090715-0-filtered.txt [see above]\n",
    "* stripe-docs-test [see below]\n",
    "* atlas-boon-test [see below]"
   ]
  },
  {
   "cell_type": "markdown",
   "metadata": {},
   "source": [
    "#### 2: unit/systems atlas-boon"
   ]
  },
  {
   "cell_type": "code",
   "execution_count": 5,
   "metadata": {
    "collapsed": false
   },
   "outputs": [
    {
     "name": "stdout",
     "output_type": "stream",
     "text": [
      "Writing atlas-boon-systems-test.txt\n"
     ]
    }
   ],
   "source": [
    "%%writefile atlas-boon-systems-test.txt\n",
    "atlas boon\t50\t50\t50\n",
    "boon cava dipped\t10\t10\t10\n",
    "atlas dipped\t15\t15\t15"
   ]
  },
  {
   "cell_type": "markdown",
   "metadata": {},
   "source": [
    "#### 3: unit/systems stripe-docs-test\n",
    "Three terms, A,B,C and their corresponding stripe-docs of co-occurring terms\n",
    "\n",
    "- DocA {X:20, Y:30, Z:5}\n",
    "- DocB {X:100, Y:20}\n",
    "- DocC {M:5, N:20, Z:5}"
   ]
  },
  {
   "cell_type": "code",
   "execution_count": 4,
   "metadata": {
    "collapsed": false,
    "scrolled": true
   },
   "outputs": [
    {
     "name": "stdout",
     "output_type": "stream",
     "text": [
      "\"DocA\"\t{\"X\":20, \"Y\":30, \"Z\":5}\r\n",
      "\"DocB\"\t{\"X\":100, \"Y\":20}\r\n",
      "\"DocC\"\t{\"M\":5, \"N\":20, \"Z\":5, \"Y\":1}\r\n"
     ]
    }
   ],
   "source": [
    "############################################\n",
    "# Stripes for systems test 1 (predefined)\n",
    "############################################\n",
    "\n",
    "with open(\"mini_stripes.txt\", \"w\") as f:\n",
    "    f.writelines([\n",
    "        '\"DocA\"\\t{\"X\":20, \"Y\":30, \"Z\":5}\\n',\n",
    "        '\"DocB\"\\t{\"X\":100, \"Y\":20}\\n',  \n",
    "        '\"DocC\"\\t{\"M\":5, \"N\":20, \"Z\":5, \"Y\":1}\\n'\n",
    "    ])\n",
    "!cat mini_stripes.txt"
   ]
  },
  {
   "cell_type": "markdown",
   "metadata": {},
   "source": [
    "## TASK: Phase 1\n",
    "Complete 5.4 and 5.5 and systems test them using the above test datasets. Phase 2 will focus on the entire Ngram dataset.\n",
    "\n",
    "To help you through these tasks please verify that your code gives the following results (for stripes, inverted index, and pairwise similarities)."
   ]
  },
  {
   "cell_type": "code",
   "execution_count": 11,
   "metadata": {
    "collapsed": false
   },
   "outputs": [
    {
     "name": "stdout",
     "output_type": "stream",
     "text": [
      "Overwriting buildStripes.py\n"
     ]
    }
   ],
   "source": [
    "%%writefile buildStripes.py\n",
    "#!/usr/bin/env python\n",
    "\n",
    "from mrjob.job import MRJob\n",
    "from mrjob.step import MRStep\n",
    "from collections import defaultdict\n",
    "from collections import Counter\n",
    "import itertools\n",
    "import re\n",
    "\n",
    "\n",
    "#Goal: Take in n-gram file and output file w/ structure {Word1: {CoWord1: count1, CoWord2: count2, etc}, etc}\n",
    "class BuildStripes(MRJob):\n",
    "    \n",
    "    def mapper(self, _, line):\n",
    "        ngram, count, page, book = line.strip(\"\\n\").split(\"\\t\")\n",
    "        words = ngram.split()\n",
    "        \n",
    "        for word in words:\n",
    "            stripe = {coWord:int(count) for coWord in words if coWord != word}\n",
    "            yield word, stripe\n",
    "                \n",
    "    def combiner(self,word, line):\n",
    "        stripe = dict(reduce(lambda x,y: Counter(x)+Counter(y), line))\n",
    "        yield word, stripe\n",
    "    \n",
    "    def reducer(self,word, line):\n",
    "        stripe = dict(reduce(lambda x,y: Counter(x)+Counter(y), line))\n",
    "        yield word, stripe\n",
    "\n",
    "    def steps(self):\n",
    "        return [MRStep(mapper=self.mapper, combiner=self.combiner, reducer=self.reducer)]\n",
    "\n",
    "if __name__=='__main__':\n",
    "    BuildStripes.run()"
   ]
  },
  {
   "cell_type": "code",
   "execution_count": 1,
   "metadata": {
    "collapsed": false,
    "scrolled": true
   },
   "outputs": [
    {
     "name": "stdout",
     "output_type": "stream",
     "text": [
      "No configs found; falling back on auto-configuration\n",
      "Creating temp directory /tmp/buildStripes.cloudera.20161002.160321.962653\n",
      "Running step 1 of 1...\n",
      "Streaming final output from /tmp/buildStripes.cloudera.20161002.160321.962653/output...\n",
      "Removing temp directory /tmp/buildStripes.cloudera.20161002.160321.962653...\n",
      "No configs found; falling back on auto-configuration\n",
      "Creating temp directory /tmp/buildStripes.cloudera.20161002.160322.416301\n",
      "Running step 1 of 1...\n",
      "Streaming final output from /tmp/buildStripes.cloudera.20161002.160322.416301/output...\n",
      "Removing temp directory /tmp/buildStripes.cloudera.20161002.160322.416301...\n"
     ]
    }
   ],
   "source": [
    "!./buildStripes.py atlas-boon-systems-test.txt > atlasMiniStripesOutput.txt\n",
    "!./buildStripes.py googlebooks-eng-all-5gram-20090715-0-filtered-first-10-lines.txt > goog10lineStripes.txt"
   ]
  },
  {
   "cell_type": "code",
   "execution_count": 2,
   "metadata": {
    "collapsed": false
   },
   "outputs": [
    {
     "name": "stdout",
     "output_type": "stream",
     "text": [
      "No configs found; falling back on auto-configuration\n",
      "Using s3://mrjob-4331c2233ea98fd7/tmp/ as our temp dir on S3\n",
      "Creating temp directory /tmp/buildStripes.cloudera.20161002.160339.256807\n",
      "Copying local files to s3://mrjob-4331c2233ea98fd7/tmp/buildStripes.cloudera.20161002.160339.256807/files/...\n",
      "Adding our job to existing cluster j-1YW75NSU09AII\n",
      "Traceback (most recent call last):\n",
      "  File \"buildStripes.py\", line 34, in <module>\n",
      "    BuildStripes.run()\n",
      "  File \"/home/cloudera/anaconda2/lib/python2.7/site-packages/mrjob/job.py\", line 429, in run\n",
      "    mr_job.execute()\n",
      "  File \"/home/cloudera/anaconda2/lib/python2.7/site-packages/mrjob/job.py\", line 447, in execute\n",
      "    super(MRJob, self).execute()\n",
      "  File \"/home/cloudera/anaconda2/lib/python2.7/site-packages/mrjob/launch.py\", line 158, in execute\n",
      "    self.run_job()\n",
      "  File \"/home/cloudera/anaconda2/lib/python2.7/site-packages/mrjob/launch.py\", line 228, in run_job\n",
      "    runner.run()\n",
      "  File \"/home/cloudera/anaconda2/lib/python2.7/site-packages/mrjob/runner.py\", line 481, in run\n",
      "    self._run()\n",
      "  File \"/home/cloudera/anaconda2/lib/python2.7/site-packages/mrjob/emr.py\", line 944, in _run\n",
      "    self._launch()\n",
      "  File \"/home/cloudera/anaconda2/lib/python2.7/site-packages/mrjob/emr.py\", line 968, in _launch\n",
      "    self._launch_emr_job()\n",
      "  File \"/home/cloudera/anaconda2/lib/python2.7/site-packages/mrjob/emr.py\", line 1765, in _launch_emr_job\n",
      "    steps = self._build_steps()\n",
      "  File \"/home/cloudera/anaconda2/lib/python2.7/site-packages/mrjob/emr.py\", line 1617, in _build_steps\n",
      "    steps.append(self._build_step(n))\n",
      "  File \"/home/cloudera/anaconda2/lib/python2.7/site-packages/mrjob/emr.py\", line 1625, in _build_step\n",
      "    return self._build_streaming_step(step_num)\n",
      "  File \"/home/cloudera/anaconda2/lib/python2.7/site-packages/mrjob/emr.py\", line 1632, in _build_streaming_step\n",
      "    jar, step_arg_prefix = self._get_streaming_jar_and_step_arg_prefix()\n",
      "  File \"/home/cloudera/anaconda2/lib/python2.7/site-packages/mrjob/emr.py\", line 1728, in _get_streaming_jar_and_step_arg_prefix\n",
      "    elif version_gte(self.get_image_version(), '4'):\n",
      "  File \"/home/cloudera/anaconda2/lib/python2.7/site-packages/mrjob/emr.py\", line 3083, in get_image_version\n",
      "    return self._get_cluster_info('image_version')\n",
      "  File \"/home/cloudera/anaconda2/lib/python2.7/site-packages/mrjob/emr.py\", line 3103, in _get_cluster_info\n",
      "    self._store_cluster_info()\n",
      "  File \"/home/cloudera/anaconda2/lib/python2.7/site-packages/mrjob/emr.py\", line 3115, in _store_cluster_info\n",
      "    cluster = self._describe_cluster()\n",
      "  File \"/home/cloudera/anaconda2/lib/python2.7/site-packages/mrjob/emr.py\", line 3063, in _describe_cluster\n",
      "    return _patched_describe_cluster(emr_conn, self._cluster_id)\n",
      "  File \"/home/cloudera/anaconda2/lib/python2.7/site-packages/mrjob/patched_boto.py\", line 36, in _patched_describe_cluster\n",
      "    return emr_conn.describe_cluster(*args, **kwargs)\n",
      "  File \"/home/cloudera/anaconda2/lib/python2.7/site-packages/mrjob/retry.py\", line 149, in call_and_maybe_retry\n",
      "    return f(*args, **kwargs)\n",
      "  File \"/home/cloudera/anaconda2/lib/python2.7/site-packages/mrjob/retry.py\", line 71, in call_and_maybe_retry\n",
      "    result = getattr(alternative, name)(*args, **kwargs)\n",
      "  File \"/home/cloudera/anaconda2/lib/python2.7/site-packages/boto/emr/connection.py\", line 97, in describe_cluster\n",
      "    return self.get_object('DescribeCluster', params, Cluster)\n",
      "  File \"/home/cloudera/anaconda2/lib/python2.7/site-packages/boto/connection.py\", line 1208, in get_object\n",
      "    raise self.ResponseError(response.status, response.reason, body)\n",
      "boto.exception.EmrResponseError: EmrResponseError: 400 Bad Request\n",
      "<ErrorResponse xmlns=\"http://elasticmapreduce.amazonaws.com/doc/2009-03-31\">\n",
      "  <Error>\n",
      "    <Type>Sender</Type>\n",
      "    <Code>InvalidRequestException</Code>\n",
      "    <Message>Cluster 'j-1YW75NSU09AII' was not found.</Message>\n",
      "  </Error>\n",
      "  <RequestId>cc99afee-88b9-11e6-8b07-bbf4d998728f</RequestId>\n",
      "</ErrorResponse>\n",
      "\n"
     ]
    }
   ],
   "source": [
    "###############################################\n",
    "# Make Stripes from ngrams for systems test 2\n",
    "###############################################\n",
    "\n",
    "!aws s3 rm --recursive s3://ucb261-hw5/hw5-4-stripes-mj\n",
    "!python buildStripes.py -r emr mini_stripes.txt \\\n",
    "    --cluster-id=j-1YW75NSU09AII \\\n",
    "    --output-dir=s3://ucb261-hw5/hw5-4-stripes-mj \\\n",
    "    --file=stopwords.txt \\\n",
    "    --file=mostFrequent/part-00000 \\\n",
    "# Output suppressed "
   ]
  },
  {
   "cell_type": "markdown",
   "metadata": {},
   "source": [
    "#### Step 10  Build an cooccureence strips from the atlas-boon"
   ]
  },
  {
   "cell_type": "code",
   "execution_count": null,
   "metadata": {
    "collapsed": true
   },
   "outputs": [],
   "source": [
    "#Using the atlas-boon systems test\n",
    "atlas boon\t50\t50\t50\n",
    "boon cava dipped\t10\t10\t10\n",
    "atlas dipped\t15\t15\t15"
   ]
  },
  {
   "cell_type": "markdown",
   "metadata": {},
   "source": [
    "#### Stripe documents for  atlas-boon systems test"
   ]
  },
  {
   "cell_type": "code",
   "execution_count": null,
   "metadata": {
    "collapsed": true
   },
   "outputs": [],
   "source": [
    "###############################################\n",
    "# Make Stripes from ngrams \n",
    "###############################################\n",
    "!aws s3 rm --recursive s3://ucb261-hw5/hw5-4-stripes-mj\n",
    "!python buildStripes.py -r emr mj_systems_test.txt \\\n",
    "    --cluster-id=j-2WHMJSLZDG \\\n",
    "    --output-dir=s3://ucb261-hw5/hw5-4-stripes-mj \\\n",
    "    --file=stopwords.txt \\\n",
    "    --file=mostFrequent/part-00000 \\\n",
    "# Output suppressed    "
   ]
  },
  {
   "cell_type": "code",
   "execution_count": null,
   "metadata": {
    "collapsed": true
   },
   "outputs": [],
   "source": [
    "!mkdir stripes-mj\n",
    "!aws s3 sync s3://ucb261-hw5/hw5-4-stripes-mj/  stripes-mj/\n",
    "!cat stripes-mj/part-*"
   ]
  },
  {
   "cell_type": "code",
   "execution_count": null,
   "metadata": {
    "collapsed": true
   },
   "outputs": [],
   "source": [
    "\"atlas\"\t{\"dipped\": 15, \"boon\": 50}\n",
    "\"boon\"\t{\"atlas\": 50, \"dipped\": 10, \"cava\": 10}\n",
    "\"cava\"\t{\"dipped\": 10, \"boon\": 10}\n",
    "\"dipped\"\t{\"atlas\": 15, \"boon\": 10, \"cava\": 10}"
   ]
  },
  {
   "cell_type": "markdown",
   "metadata": {},
   "source": [
    "## Building stripes execution MR stats: (report times!)\n",
    "    took ~11 minutes on 5 m3.xlarge nodes\n",
    "    Data-local map tasks=188\n",
    "\tLaunched map tasks=190\n",
    "\tLaunched reduce tasks=15\n",
    "\tOther local map tasks=2"
   ]
  },
  {
   "cell_type": "markdown",
   "metadata": {},
   "source": [
    "#### Step 20  create inverted index, and calculate pairwise similarity"
   ]
  },
  {
   "cell_type": "markdown",
   "metadata": {
    "collapsed": true
   },
   "source": [
    "<p><strong>Solution 1:</strong> </p>\n",
    "<ol>\n",
    "<li>Create an Inverted Index. </li>\n",
    "<li>Use the output to calculate similarities. </li>\n",
    "<li>Build custom partitioner, re-run the similarity code, and output total order sorted partitions.</li>\n",
    "</ol>\n"
   ]
  },
  {
   "cell_type": "code",
   "execution_count": 21,
   "metadata": {
    "collapsed": false
   },
   "outputs": [
    {
     "name": "stdout",
     "output_type": "stream",
     "text": [
      "Overwriting invertedIndex.py\n"
     ]
    }
   ],
   "source": [
    "%%writefile invertedIndex.py\n",
    "#!/usr/bin/env python\n",
    "\n",
    "from mrjob.job import MRJob\n",
    "from mrjob.step import MRStep\n",
    "from collections import defaultdict\n",
    "from collections import Counter\n",
    "import json\n",
    "import itertools\n",
    "import re\n",
    "\n",
    "\n",
    "#Goal: Take in key {strip} file, and output inversion of {word: {doc1: wordsInDoc1, doc2: etc}, etc}\n",
    "class InvertedIndex(MRJob):\n",
    "    \n",
    "    def mapper(self, _, line):\n",
    "        doc, stripe = line.strip(\"\\n\").split(\"\\t\")\n",
    "        stripe = json.loads(stripe)\n",
    "        stripeLength = len(stripe)\n",
    "        \n",
    "        for word in stripe.keys():\n",
    "            yield word, {doc.strip('\"'): stripeLength}\n",
    "                \n",
    "    def combiner(self,word, line):\n",
    "        #A bit overkill because keys won't appear twice, but still combines it\n",
    "        stripe = dict(reduce(lambda x,y: Counter(x)+Counter(y), line))\n",
    "        yield word, stripe\n",
    "    \n",
    "    def reducer(self,word, line):\n",
    "        stripe = dict(reduce(lambda x,y: Counter(x)+Counter(y), line))\n",
    "        yield word, stripe\n",
    "\n",
    "    def steps(self):\n",
    "        return [MRStep(mapper=self.mapper, combiner=self.combiner, reducer=self.reducer)]\n",
    "\n",
    "if __name__=='__main__':\n",
    "    InvertedIndex.run()"
   ]
  },
  {
   "cell_type": "code",
   "execution_count": 24,
   "metadata": {
    "collapsed": false,
    "scrolled": true
   },
   "outputs": [
    {
     "name": "stdout",
     "output_type": "stream",
     "text": [
      "No configs found; falling back on auto-configuration\n",
      "Creating temp directory /tmp/invertedIndex.cloudera.20161001.174657.405474\n",
      "Running step 1 of 1...\n",
      "Streaming final output from /tmp/invertedIndex.cloudera.20161001.174657.405474/output...\n",
      "Removing temp directory /tmp/invertedIndex.cloudera.20161001.174657.405474...\n",
      "No configs found; falling back on auto-configuration\n",
      "Creating temp directory /tmp/invertedIndex.cloudera.20161001.174657.853742\n",
      "Running step 1 of 1...\n",
      "Streaming final output from /tmp/invertedIndex.cloudera.20161001.174657.853742/output...\n",
      "Removing temp directory /tmp/invertedIndex.cloudera.20161001.174657.853742...\n"
     ]
    }
   ],
   "source": [
    "!./invertedIndex.py mini_stripes.txt > stripesInvertedOutput.txt\n",
    "!./invertedIndex.py atlasMiniStripesOutput.txt > atlasInvertedOutput.txt"
   ]
  },
  {
   "cell_type": "code",
   "execution_count": 27,
   "metadata": {
    "collapsed": false
   },
   "outputs": [
    {
     "name": "stdout",
     "output_type": "stream",
     "text": [
      "Systems test 1 - Inverted Index\n",
      "————————————————————————————————————————————————————————————————————————————————————————————————————\n"
     ]
    },
    {
     "ename": "KeyError",
     "evalue": "0",
     "output_type": "error",
     "traceback": [
      "\u001b[1;31m---------------------------------------------------------------------------\u001b[0m",
      "\u001b[1;31mKeyError\u001b[0m                                  Traceback (most recent call last)",
      "\u001b[1;32m<ipython-input-27-560b00d03e74>\u001b[0m in \u001b[0;36m<module>\u001b[1;34m()\u001b[0m\n\u001b[0;32m     17\u001b[0m \u001b[1;33m\u001b[0m\u001b[0m\n\u001b[0;32m     18\u001b[0m         print \"{0:>15} |{1:>15} |{2:>15} |{3:>15}\".format(\n\u001b[1;32m---> 19\u001b[1;33m             (word), stripe[0][0]+\" \"+str(stripe[0][1]), stripe[1][0]+\" \"+str(stripe[1][1]), stripe[2][0]+\" \"+str(stripe[2][1]))\n\u001b[0m\u001b[0;32m     20\u001b[0m \u001b[1;33m\u001b[0m\u001b[0m\n\u001b[0;32m     21\u001b[0m \u001b[1;32mprint\u001b[0m \u001b[1;34m\"\\nSystems test 2 - Inverted Index\"\u001b[0m\u001b[1;33m\u001b[0m\u001b[0m\n",
      "\u001b[1;31mKeyError\u001b[0m: 0"
     ]
    }
   ],
   "source": [
    "##########################################################\n",
    "# Pretty print systems tests for generating Inverted Index\n",
    "##########################################################\n",
    "\n",
    "import json\n",
    "\n",
    "print \"Systems test 1 - Inverted Index\"\n",
    "print \"—\"*100        \n",
    "\n",
    "with open(\"stripesInvertedOutput.txt\",\"r\") as f:\n",
    "    lines = f.readlines()\n",
    "    for line in lines:\n",
    "        line = line.strip()\n",
    "        word,stripe = line.split(\"\\t\")\n",
    "        stripe = json.loads(stripe)\n",
    "        stripe.extend([[\"\",\"\"] for _ in xrange(3 - len(stripe))])\n",
    "        \n",
    "        print \"{0:>15} |{1:>15} |{2:>15} |{3:>15}\".format(\n",
    "            (word), stripe[0][0]+\" \"+str(stripe[0][1]), stripe[1][0]+\" \"+str(stripe[1][1]), stripe[2][0]+\" \"+str(stripe[2][1]))\n",
    "        \n",
    "print \"\\nSystems test 2 - Inverted Index\"\n",
    "print \"—\"*100  \n",
    "with open(\"atlasInvertedOutput.txt\",\"r\") as f:\n",
    "    lines = f.readlines()\n",
    "    for line in lines:\n",
    "        line = line.strip()\n",
    "        word,stripe = line.split(\"\\t\")\n",
    "        stripe = json.loads(stripe)\n",
    "    \n",
    "        stripe.extend([[\"\",\"\"] for _ in xrange(3 - len(stripe))])\n",
    "        \n",
    "        print \"{0:>15} |{1:>15} |{2:>15} |{3:>15}\".format(\n",
    "            (word), stripe[0][0]+\" \"+str(stripe[0][1]), stripe[1][0]+\" \"+str(stripe[1][1]), stripe[2][0]+\" \"+str(stripe[2][1]))\n"
   ]
  },
  {
   "cell_type": "markdown",
   "metadata": {},
   "source": [
    "### Inverted Index"
   ]
  },
  {
   "cell_type": "code",
   "execution_count": null,
   "metadata": {
    "collapsed": true
   },
   "outputs": [],
   "source": [
    "Systems test mini_stripes - Inverted Index\n",
    "————————————————————————————————————————————————————————————————————————————————————————————————————\n",
    "            \"M\" |         DocC 4 |                |               \n",
    "            \"N\" |         DocC 4 |                |               \n",
    "            \"X\" |         DocA 3 |         DocB 2 |               \n",
    "            \"Y\" |         DocA 3 |         DocB 2 |         DocC 4\n",
    "            \"Z\" |         DocA 3 |         DocC 4 |               \n",
    "\n",
    " systems test atlas-boon - Inverted Index\n",
    "————————————————————————————————————————————————————————————————————————————————————————————————————\n",
    "        \"atlas\" |         boon 3 |       dipped 3 |               \n",
    "       \"dipped\" |        atlas 2 |         boon 3 |         cava 2\n",
    "         \"boon\" |        atlas 2 |         cava 2 |       dipped 3\n",
    "         \"cava\" |         boon 3 |       dipped 3 |        "
   ]
  },
  {
   "cell_type": "code",
   "execution_count": null,
   "metadata": {
    "collapsed": true
   },
   "outputs": [],
   "source": []
  },
  {
   "cell_type": "code",
   "execution_count": null,
   "metadata": {
    "collapsed": true
   },
   "outputs": [],
   "source": []
  },
  {
   "cell_type": "markdown",
   "metadata": {},
   "source": [
    "### Pairwise Similairity "
   ]
  },
  {
   "cell_type": "code",
   "execution_count": 69,
   "metadata": {
    "collapsed": false
   },
   "outputs": [
    {
     "name": "stdout",
     "output_type": "stream",
     "text": [
      "Overwriting pairwiseSimilarity.py\n"
     ]
    }
   ],
   "source": [
    "%%writefile pairwiseSimilarity.py\n",
    "#!/usr/bin/env python\n",
    "\n",
    "from mrjob.job import MRJob\n",
    "from mrjob.step import MRStep\n",
    "from collections import defaultdict\n",
    "from collections import Counter\n",
    "import json\n",
    "import itertools\n",
    "import re\n",
    "import math\n",
    "\n",
    "\n",
    "#Goal: Take in key {strip} file, and output inversion of {word: {doc1: wordsInDoc1, doc2: etc}, etc}\n",
    "class PairwiseSimilarity(MRJob):\n",
    "    \n",
    "    #For future reference, if this is too large to store in memory\n",
    "    #we can hack it.  Tack the union sum onto the end of the sorted key\n",
    "    #and then parse it all out at the reducer stage\n",
    "    unions = defaultdict(int)\n",
    "    \n",
    "    def configure_options(self):\n",
    "        super(PairwiseSimilarity, self).configure_options()\n",
    "        self.add_passthrough_option(\"--similarity_measure\", type=\"str\")\n",
    "    \n",
    "    def __init__(self, *args, **kwargs):\n",
    "        super(PairwiseSimilarity, self).__init__(*args, **kwargs)\n",
    "        self.similarity_measure = self.options.similarity_measure\n",
    "        \n",
    "    def mapper(self, _, line):\n",
    "        doc, stripe = line.strip(\"\\n\").split(\"\\t\")\n",
    "        stripe = json.loads(stripe)\n",
    "        stripeLength = len(stripe)\n",
    "        \n",
    "        if self.similarity_measure == \"jaccard\":\n",
    "            pairs = map(dict, itertools.combinations(stripe.items(),2))\n",
    "            for pair in pairs:\n",
    "                key = sorted(pair.keys()) # \",\".join(sorted(pair.keys()))\n",
    "                self.unions[\",\".join(key)]=sum(pair.values())\n",
    "                yield key, 1\n",
    "        if self.similarity_measure == \"cosine\":\n",
    "            pairs = map(dict, itertools.combinations(stripe.items(),2))\n",
    "            for pair in pairs:\n",
    "                key = sorted(pair.keys()) # \",\".join(sorted(pair.keys()))\n",
    "                normProduct = reduce(lambda x,y: math.sqrt(x)*math.sqrt(y), pair.values())\n",
    "                yield key, float(1)/normProduct\n",
    "                \n",
    "    def combiner(self,key, values):\n",
    "        \n",
    "        if self.similarity_measure == \"jaccard\":\n",
    "            yield key, sum(values) \n",
    "        if self.similarity_measure == \"cosine\":\n",
    "            yield key, sum(values)\n",
    "    \n",
    "    def reducer(self,key, values):\n",
    "        totalCount = sum(values)\n",
    "        if self.similarity_measure == \"jaccard\":\n",
    "            similarity = float(totalCount)/(self.unions[\",\".join(key)] - totalCount) #float(counts + singleCount)/union\n",
    "            yield key, similarity\n",
    "        if self.similarity_measure == \"cosine\":\n",
    "            yield key, totalCount\n",
    "            \n",
    "    def steps(self):\n",
    "        return [MRStep(mapper=self.mapper, combiner=self.combiner, reducer=self.reducer)]\n",
    "\n",
    "if __name__=='__main__':\n",
    "    PairwiseSimilarity.run()"
   ]
  },
  {
   "cell_type": "code",
   "execution_count": 71,
   "metadata": {
    "collapsed": false,
    "scrolled": true
   },
   "outputs": [
    {
     "name": "stdout",
     "output_type": "stream",
     "text": [
      "No configs found; falling back on auto-configuration\n",
      "Creating temp directory /tmp/pairwiseSimilarity.cloudera.20161002.000551.818895\n",
      "Running step 1 of 1...\n",
      "Streaming final output from /tmp/pairwiseSimilarity.cloudera.20161002.000551.818895/output...\n",
      "Removing temp directory /tmp/pairwiseSimilarity.cloudera.20161002.000551.818895...\n",
      "No configs found; falling back on auto-configuration\n",
      "Creating temp directory /tmp/pairwiseSimilarity.cloudera.20161002.000552.378927\n",
      "Running step 1 of 1...\n",
      "Streaming final output from /tmp/pairwiseSimilarity.cloudera.20161002.000552.378927/output...\n",
      "Removing temp directory /tmp/pairwiseSimilarity.cloudera.20161002.000552.378927...\n",
      "No configs found; falling back on auto-configuration\n",
      "Creating temp directory /tmp/pairwiseSimilarity.cloudera.20161002.000552.888785\n",
      "Running step 1 of 1...\n",
      "Streaming final output from /tmp/pairwiseSimilarity.cloudera.20161002.000552.888785/output...\n",
      "Removing temp directory /tmp/pairwiseSimilarity.cloudera.20161002.000552.888785...\n",
      "No configs found; falling back on auto-configuration\n",
      "Creating temp directory /tmp/pairwiseSimilarity.cloudera.20161002.000553.668276\n",
      "Running step 1 of 1...\n",
      "Streaming final output from /tmp/pairwiseSimilarity.cloudera.20161002.000553.668276/output...\n",
      "Removing temp directory /tmp/pairwiseSimilarity.cloudera.20161002.000553.668276...\n"
     ]
    }
   ],
   "source": [
    "!./pairwiseSimilarity.py stripesInvertedOutput.txt --similarity_measure \"jaccard\" > jaccardSimilarity.txt\n",
    "!./pairwiseSimilarity.py stripesInvertedOutput.txt --similarity_measure \"cosine\" > cosineSimilarity.txt\n",
    "\n",
    "!./pairwiseSimilarity.py atlasInvertedOutput.txt --similarity_measure \"jaccard\" > jaccardAtlSimilarity.txt\n",
    "!./pairwiseSimilarity.py atlasInvertedOutput.txt --similarity_measure \"cosine\" > cosineAtlSimilarity.txt"
   ]
  },
  {
   "cell_type": "markdown",
   "metadata": {
    "collapsed": true
   },
   "source": [
    "# Calculations By Hand \n",
    "\n",
    "Jaccard Scratch Notes: \n",
    "    \n",
    "    docA & docB = {x + y}\n",
    "    docA | docB = {x + y + z}\n",
    "    A&B/A|B = .6666\n",
    "\n",
    "    docA & docC = {z + y}\n",
    "    docA | docC = {x + y + z+ m + n}\n",
    "    A&C/A|C = .4\n",
    "\n",
    "    docB & docC = {y}\n",
    "    docB | docC = {y + x + z + n + m}\n",
    "    C&B/C|B = .2\n",
    "\n",
    "    So jaccard literally is just using binary counts.\n",
    "\n",
    "    For each line i can spit out the combinations of docs/words, and also the sum of their attached counts \n",
    "\n",
    "    In the reduce phase we effectively get a free look at A&B, and we include A+B in the tuple, so then its A&B/(A+B-A&B)\n",
    "    For words/docs that have no co-occurrence I would need to keep a set in memory of every term/document, and then a set of combinations, and then i would\n",
    "    need to take the set difference, and output those combinations as zero.  This is doable, but ill ignore for now.\n",
    "\n",
    "Cosine Notes:\n",
    "    \n",
    "    docA*docB = {1*1 + 1*1 + 1*0} = 2\n",
    "    |docA||docB| = 1/sqrt(2) * 1/sqrt(3) = 1/sqrt(6)\n",
    "    A&B/A|B = .81\n",
    "\n",
    "    docA*docC = {1*0 + 1*1 + 1*1 + 1*0 + 1*0} = 2\n",
    "    docA | docC = 1/sqrt(3) * 1/sqrt(4) = 1/sqrt(12)\n",
    "    A&C/A|C = .57\n",
    "\n",
    "    docB*docC = {1*0 + 1*1 + 1*0 + 1*0 + 1*0} = 1\n",
    "    docB | docC = 1/sqrt(2) * 1/sqrt(4) = 1/sqrt(8)\n",
    "    C&B/C|B = .35\n",
    "    "
   ]
  },
  {
   "cell_type": "code",
   "execution_count": null,
   "metadata": {
    "collapsed": true
   },
   "outputs": [],
   "source": [
    "Systems test mini_stripes - Inverted Index\n",
    "————————————————————————————————————————————————————————————————————————————————————————————————————\n",
    "            \"M\" |         DocC 4 |                |               \n",
    "            \"N\" |         DocC 4 |                |               \n",
    "            \"X\" |         DocA 3 |         DocB 2 |               \n",
    "            \"Y\" |         DocA 3 |         DocB 2 |         DocC 4\n",
    "            \"Z\" |         DocA 3 |         DocC 4 |               \n",
    "\n",
    " systems test atlas-boon - Inverted Index\n",
    "————————————————————————————————————————————————————————————————————————————————————————————————————\n",
    "        \"atlas\" |         boon 3 |       dipped 3 |               \n",
    "       \"dipped\" |        atlas 2 |         boon 3 |         cava 2\n",
    "         \"boon\" |        atlas 2 |         cava 2 |       dipped 3\n",
    "         \"cava\" |         boon 3 |       dipped 3 |   \n",
    "        \n",
    "\"DocA\"\t{\"X\":20, \"Y\":30, \"Z\":5}\n",
    "\"DocB\"\t{\"X\":100, \"Y\":20}\n",
    "\"DocC\"\t{\"M\":5, \"N\":20, \"Z\":5, \"Y\":1}"
   ]
  },
  {
   "cell_type": "code",
   "execution_count": null,
   "metadata": {
    "collapsed": true
   },
   "outputs": [],
   "source": [
    "Systems test mini_stripes - Similarity measures\n",
    "——————————————————————————————————————————————————————————————————————————————————————————————————————————————\n",
    "        average |           pair |         cosine |        jaccard |        overlap |           dice\n",
    "--------------------------------------------------------------------------------------------------------------\n",
    "       0.741582 |    DocA - DocB |       0.816497 |       0.666667 |       1.000000 |       0.800000\n",
    "       0.488675 |    DocA - DocC |       0.577350 |       0.400000 |       0.666667 |       0.571429\n",
    "       0.276777 |    DocB - DocC |       0.353553 |       0.200000 |       0.500000 |       0.333333\n",
    "--------------------------------------------------------------------------------------------------------------\n",
    "Systems test atlas-boon 2 - Similarity measures\n",
    "——————————————————————————————————————————————————————————————————————————————————————————————————————————————\n",
    "        average |           pair |         cosine |        jaccard |        overlap |           dice\n",
    "--------------------------------------------------------------------------------------------------------------\n",
    "       1.000000 |   atlas - cava |       1.000000 |       1.000000 |       1.000000 |       1.000000\n",
    "       0.625000 |  boon - dipped |       0.666667 |       0.500000 |       0.666667 |       0.666667\n",
    "       0.389562 |  cava - dipped |       0.408248 |       0.250000 |       0.500000 |       0.400000\n",
    "       0.389562 |    boon - cava |       0.408248 |       0.250000 |       0.500000 |       0.400000\n",
    "       0.389562 | atlas - dipped |       0.408248 |       0.250000 |       0.500000 |       0.400000\n",
    "       0.389562 |   atlas - boon |       0.408248 |       0.250000 |       0.500000 |       0.400000\n",
    "--------------------------------------------------------------------------------------------------------------"
   ]
  },
  {
   "cell_type": "markdown",
   "metadata": {},
   "source": [
    "## 3.  HW5.3.1  <a name=\"1.3\"></a> Run systems tests on the CLOUD  (PHASE 1)\n",
    "[Back to Table of Contents](#TOC)\n",
    "\n",
    "Repeat HW5.3.0 on the cloud (AltaScale / AWS/ SoftLayer/ Azure). Make sure all tests give correct results"
   ]
  },
  {
   "cell_type": "markdown",
   "metadata": {},
   "source": [
    "# PHASE 2: Full-scale experiment on Google N-gram data"
   ]
  },
  {
   "cell_type": "markdown",
   "metadata": {},
   "source": [
    "__ Once you are happy with your test results __ proceed to generating  your results on the Google n-grams dataset. "
   ]
  },
  {
   "cell_type": "markdown",
   "metadata": {},
   "source": [
    "## 3.  HW5.3.2  Full-scale experiment: EDA of Google n-grams dataset (PHASE 2)\n",
    "[Back to Table of Contents](#TOC)\n",
    "\n",
    "Do some EDA on this dataset using mrjob, e.g., \n",
    "\n",
    "- Longest 5-gram (number of characters)\n",
    "- Top 10 most frequent words (please use the count information), i.e., unigrams\n",
    "- 20 Most/Least densely appearing words (count/pages_count) sorted in decreasing order of relative frequency \n",
    "- Distribution of 5-gram sizes (character length).  E.g., count (using the count field) up how many times a 5-gram of 50 characters shows up. Plot the data graphically using a histogram."
   ]
  },
  {
   "cell_type": "markdown",
   "metadata": {},
   "source": []
  },
  {
   "cell_type": "code",
   "execution_count": 22,
   "metadata": {
    "collapsed": false
   },
   "outputs": [
    {
     "name": "stdout",
     "output_type": "stream",
     "text": [
      "Overwriting ngramEDA.py\n"
     ]
    }
   ],
   "source": [
    "%%writefile ngramEDA.py\n",
    "#!/usr/bin/env python\n",
    "\n",
    "from mrjob.job import MRJob\n",
    "from mrjob.step import MRStep\n",
    "from collections import defaultdict\n",
    "import itertools\n",
    "import re\n",
    "\n",
    "class NgramEDA(MRJob):\n",
    "    \n",
    "    \n",
    "    \n",
    "    def configure_options(self):\n",
    "        super(NgramEDA, self).configure_options()\n",
    "        self.add_passthrough_option(\"--feature_type\", type=\"str\")\n",
    "        self.add_passthrough_option(\"--topN\", type=\"int\")\n",
    "    \n",
    "    def __init__(self, *args, **kwargs):\n",
    "        super(NgramEDA, self).__init__(*args, **kwargs)\n",
    "        self.feature_type = self.options.feature_type\n",
    "        self.topN = self.options.topN\n",
    "        self.ngram = [\"nada\" for i in range(self.topN)]\n",
    "        self.frequencies = [0 for i in range(self.topN)]\n",
    "        \n",
    "    def mapper(self, key, line):\n",
    "        title, count, pages, books = line.strip(\"\\n\").split(\"\\t\")\n",
    "        words = title.split()\n",
    "        numChar = len(title)\n",
    "        \n",
    "        if self.feature_type == \"length\":\n",
    "            yield None, numChar\n",
    "        if self.feature_type == \"frequency\":\n",
    "            for word in words:\n",
    "                yield word, int(count)\n",
    "        if self.feature_type == \"density\":\n",
    "            for word in words:\n",
    "                yield word, (int(count),int(pages))\n",
    "        if self.feature_type == \"distribution\":\n",
    "            yield str(numChar), 1    \n",
    "                    \n",
    "    def reducer(self, key, counts):\n",
    "        if self.feature_type == \"length\":\n",
    "            yield \"Max Length\", max(counts)\n",
    "        if self.feature_type == \"frequency\":\n",
    "            total = sum(counts)\n",
    "            ix = -1\n",
    "            for i in range(len(self.frequencies)):\n",
    "                if total > self.frequencies[i]:\n",
    "                    ix = i\n",
    "                else:\n",
    "                    break\n",
    "            if ix >= 0:\n",
    "                self.frequencies.insert(ix+1,total)\n",
    "                self.ngram.insert(ix+1,key)\n",
    "                self.frequencies = self.frequencies[1:(1+len(self.frequencies))]\n",
    "                self.ngram = self.ngram[1:(1+len(self.frequencies))]\n",
    "            #yield key, total\n",
    "        if self.feature_type == \"density\":\n",
    "            count, pages = map(sum,zip(*counts))\n",
    "            yield key, float(count)/pages\n",
    "        if self.feature_type == \"distribution\":\n",
    "            yield key, sum(counts)\n",
    "        \n",
    "    def reducer_final(self):\n",
    "        if self.feature_type == \"frequency\":\n",
    "            self.frequencies.reverse()\n",
    "            self.ngram.reverse()\n",
    "            print \"The top 10000 pages are:\"\n",
    "            for i in range(self.topN):\n",
    "                yield self.ngram[i] , self.frequencies[i]\n",
    "\n",
    "    def steps(self):\n",
    "        return [MRStep(mapper=self.mapper, reducer=self.reducer, reducer_final=self.reducer_final)]\n",
    "\n",
    "if __name__=='__main__':\n",
    "    NgramEDA.run()"
   ]
  },
  {
   "cell_type": "code",
   "execution_count": 23,
   "metadata": {
    "collapsed": false,
    "scrolled": true
   },
   "outputs": [
    {
     "name": "stdout",
     "output_type": "stream",
     "text": [
      "No configs found; falling back on auto-configuration\n",
      "Creating temp directory /tmp/ngramEDA.cloudera.20161002.171514.216981\n",
      "Running step 1 of 1...\n",
      "Streaming final output from /tmp/ngramEDA.cloudera.20161002.171514.216981/output...\n",
      "Removing temp directory /tmp/ngramEDA.cloudera.20161002.171514.216981...\n",
      "No configs found; falling back on auto-configuration\n",
      "Creating temp directory /tmp/ngramEDA.cloudera.20161002.171514.696650\n",
      "Running step 1 of 1...\n",
      "Streaming final output from /tmp/ngramEDA.cloudera.20161002.171514.696650/output...\n",
      "Removing temp directory /tmp/ngramEDA.cloudera.20161002.171514.696650...\n",
      "No configs found; falling back on auto-configuration\n",
      "Creating temp directory /tmp/ngramEDA.cloudera.20161002.171515.068401\n",
      "Running step 1 of 1...\n",
      "Streaming final output from /tmp/ngramEDA.cloudera.20161002.171515.068401/output...\n",
      "Removing temp directory /tmp/ngramEDA.cloudera.20161002.171515.068401...\n",
      "No configs found; falling back on auto-configuration\n",
      "Creating temp directory /tmp/ngramEDA.cloudera.20161002.171515.479685\n",
      "Running step 1 of 1...\n",
      "Streaming final output from /tmp/ngramEDA.cloudera.20161002.171515.479685/output...\n",
      "Removing temp directory /tmp/ngramEDA.cloudera.20161002.171515.479685...\n"
     ]
    }
   ],
   "source": [
    "!./ngramEDA.py google5gram0Top10.txt --feature_type \"length\" --topN 20 > top10Length.txt\n",
    "!./ngramEDA.py google5gram0Top10.txt --jobconf mapred.reduce.tasks=1 --feature_type \"frequency\" --topN 20 > top10Frequency.txt\n",
    "!./ngramEDA.py google5gram0Top10.txt --feature_type \"density\" --topN 20  > top10Density.txt\n",
    "!./ngramEDA.py google5gram0Top10.txt --feature_type \"distribution\" --topN 20  > top10Distribution.txt"
   ]
  },
  {
   "cell_type": "code",
   "execution_count": null,
   "metadata": {
    "collapsed": true
   },
   "outputs": [],
   "source": []
  },
  {
   "cell_type": "markdown",
   "metadata": {},
   "source": [
    "## 3.  HW5.4  <a name=\"1.4\"></a> Synonym detection over 2Gig of Data\n",
    "[Back to Table of Contents](#TOC)\n",
    "\n",
    "For the remainder of this assignment please feel free to eliminate stop words from your analysis"
   ]
  },
  {
   "cell_type": "markdown",
   "metadata": {},
   "source": [
    ">There is also a corpus of stopwords, that is, high-frequency words like \"the\", \"to\" and \"also\" that we sometimes want to filter out of a document before further processing. Stopwords usually have little lexical content, and their presence in a text fails to distinguish it from other texts. Python's nltk comes with a prebuilt list of stopwords (see below). Using this stopword list filter out these tokens from your analysis and rerun the experiments in 5.5 and disucuss the results of using a stopword list and without using a stopword list.\n",
    "\n",
    "> from nltk.corpus import stopwords\n",
    " stopwords.words('english')\n",
    "['i', 'me', 'my', 'myself', 'we', 'our', 'ours', 'ourselves', 'you', 'your', 'yours',\n",
    "'yourself', 'yourselves', 'he', 'him', 'his', 'himself', 'she', 'her', 'hers',\n",
    "'herself', 'it', 'its', 'itself', 'they', 'them', 'their', 'theirs', 'themselves',\n",
    "'what', 'which', 'who', 'whom', 'this', 'that', 'these', 'those', 'am', 'is', 'are',\n",
    "'was', 'were', 'be', 'been', 'being', 'have', 'has', 'had', 'having', 'do', 'does',\n",
    "'did', 'doing', 'a', 'an', 'the', 'and', 'but', 'if', 'or', 'because', 'as', 'until',\n",
    "'while', 'of', 'at', 'by', 'for', 'with', 'about', 'against', 'between', 'into',\n",
    "'through', 'during', 'before', 'after', 'above', 'below', 'to', 'from', 'up', 'down',\n",
    "'in', 'out', 'on', 'off', 'over', 'under', 'again', 'further', 'then', 'once', 'here',\n",
    "'there', 'when', 'where', 'why', 'how', 'all', 'any', 'both', 'each', 'few', 'more',\n",
    "'most', 'other', 'some', 'such', 'no', 'nor', 'not', 'only', 'own', 'same', 'so',\n",
    "'than', 'too', 'very', 's', 't', 'can', 'will', 'just', 'don', 'should', 'now']"
   ]
  },
  {
   "cell_type": "markdown",
   "metadata": {},
   "source": [
    "### 2: A large subset of the Google n-grams dataset as was described above\n",
    "\n",
    "For each HW 5.4 -5.5.1 Please unit test and system test your code with respect \n",
    "to SYSTEMS TEST DATASET and show the results. \n",
    "Please compute the expected answer by hand and show your hand calculations for the \n",
    "SYSTEMS TEST DATASET. Then show the results you get with your system."
   ]
  },
  {
   "cell_type": "markdown",
   "metadata": {},
   "source": [
    "In this part of the assignment we will focus on developing methods for detecting synonyms, using the Google 5-grams dataset. At a high level:\n",
    "\n",
    "\n",
    "1. remove stopwords\n",
    "2. get 10,0000 most frequent\n",
    "3. get 1000 (9001-10000) features\n",
    "3. build stripes\n",
    "\n",
    "To accomplish this you must script two main tasks using MRJob:\n",
    "\n",
    "\n",
    "__TASK (1)__ Build stripes for the most frequent 10,000 words using cooccurence information based on\n",
    "the words ranked from 9001,-10,000 as a basis/vocabulary (drop stopword-like terms),\n",
    "and output to a file in your bucket on s3 (bigram analysis, though the words are non-contiguous).\n",
    "\n",
    "\n",
    "__TASK (2)__ Using two (symmetric) comparison methods of your choice \n",
    "(e.g., correlations, distances, similarities), pairwise compare \n",
    "all stripes (vectors), and output to a file in your bucket on s3.\n",
    "\n",
    "#### Design notes for TASK (1)\n",
    "For this task you will be able to modify the pattern we used in HW 3.2\n",
    "(feel free to use the solution as reference). To total the word counts \n",
    "across the 5-grams, output the support from the mappers using the total \n",
    "order inversion pattern:\n",
    "\n",
    "<*word,count>\n",
    "\n",
    "to ensure that the support arrives before the cooccurrences.\n",
    "\n",
    "In addition to ensuring the determination of the total word counts,\n",
    "the mapper must also output co-occurrence counts for the pairs of\n",
    "words inside of each 5-gram. Treat these words as a basket,\n",
    "as we have in HW 3, but count all stripes or pairs in both orders,\n",
    "i.e., count both orderings: (word1,word2), and (word2,word1), to preserve\n",
    "symmetry in our output for TASK (2).\n",
    "\n",
    "#### Design notes for _TASK (2)_\n",
    "For this task you will have to determine a method of comparison.\n",
    "Here are a few that you might consider:\n",
    "\n",
    "- Jaccard\n",
    "- Cosine similarity\n",
    "- Spearman correlation\n",
    "- Euclidean distance\n",
    "- Taxicab (Manhattan) distance\n",
    "- Shortest path graph distance (a graph, because our data is symmetric!)\n",
    "- Pearson correlation\n",
    "- Kendall correlation\n",
    "\n",
    "However, be cautioned that some comparison methods are more difficult to\n",
    "parallelize than others, and do not perform more associations than is necessary, \n",
    "since your choice of association will be symmetric.\n",
    "\n",
    "Please use the inverted index (discussed in live session #5) based pattern to compute the pairwise (term-by-term) similarity matrix. \n",
    "\n",
    "Please report the size of the cluster used and the amount of time it takes to run for the index construction task and for the synonym calculation task. How many pairs need to be processed (HINT: use the posting list length to calculate directly)? Report your  Cluster configuration!"
   ]
  },
  {
   "cell_type": "code",
   "execution_count": null,
   "metadata": {
    "collapsed": true
   },
   "outputs": [],
   "source": []
  },
  {
   "cell_type": "code",
   "execution_count": null,
   "metadata": {
    "collapsed": true
   },
   "outputs": [],
   "source": [
    "print \"\\nTop/Bottom 20 results - Similarity measures - sorted by cosine\"\n",
    "print \"(From the entire data set)\"\n",
    "print '—'*117\n",
    "print \"{0:>30} |{1:>15} |{2:>15} |{3:>15} |{4:>15} |{5:>15}\".format(\n",
    "        \"pair\", \"cosine\", \"jaccard\", \"overlap\", \"dice\", \"average\")\n",
    "print '-'*117\n",
    "\n",
    "for stripe in sortedSims[:20]:\n",
    "    print \"{0:>30} |{1:>15f} |{2:>15f} |{3:>15f} |{4:>15f} |{5:>15f}\".format(\n",
    "        stripe[0], float(stripe[1]), float(stripe[2]), float(stripe[3]), float(stripe[4]), float(stripe[5]) )\n",
    "\n",
    "print '—'*117\n",
    "\n",
    "for stripe in sortedSims[-20:]:\n",
    "    print \"{0:>30} |{1:>15f} |{2:>15f} |{3:>15f} |{4:>15f} |{5:>15f}\".format(\n",
    "        stripe[0], float(stripe[1]), float(stripe[2]), float(stripe[3]), float(stripe[4]), float(stripe[5]) )\n"
   ]
  },
  {
   "cell_type": "code",
   "execution_count": null,
   "metadata": {
    "collapsed": true
   },
   "outputs": [],
   "source": [
    "Top/Bottom 20 results - Similarity measures - sorted by cosine\n",
    "(From the entire data set)\n",
    "—————————————————————————————————————————————————————————————————————————————————————————————————————————————————————\n",
    "                          pair |         cosine |        jaccard |        overlap |           dice |        average\n",
    "---------------------------------------------------------------------------------------------------------------------\n",
    "                   cons - pros |       0.894427 |       0.800000 |       1.000000 |       0.888889 |       0.895829\n",
    "            forties - twenties |       0.816497 |       0.666667 |       1.000000 |       0.800000 |       0.820791\n",
    "                    own - time |       0.809510 |       0.670563 |       0.921168 |       0.802799 |       0.801010\n",
    "                 little - time |       0.784197 |       0.630621 |       0.926101 |       0.773473 |       0.778598\n",
    "                  found - time |       0.783434 |       0.636364 |       0.883788 |       0.777778 |       0.770341\n",
    "                 nova - scotia |       0.774597 |       0.600000 |       1.000000 |       0.750000 |       0.781149\n",
    "                   hong - kong |       0.769800 |       0.615385 |       0.888889 |       0.761905 |       0.758995\n",
    "                   life - time |       0.769666 |       0.608789 |       0.925081 |       0.756829 |       0.765091\n",
    "                  time - world |       0.755476 |       0.585049 |       0.937500 |       0.738209 |       0.754058\n",
    "                  means - time |       0.752181 |       0.587117 |       0.902597 |       0.739854 |       0.745437\n",
    "                   form - time |       0.749943 |       0.588418 |       0.876733 |       0.740885 |       0.738995\n",
    "       infarction - myocardial |       0.748331 |       0.560000 |       1.000000 |       0.717949 |       0.756570\n",
    "                 people - time |       0.745788 |       0.573577 |       0.923875 |       0.729010 |       0.743063\n",
    "                 angeles - los |       0.745499 |       0.586207 |       0.850000 |       0.739130 |       0.730209\n",
    "                  little - own |       0.739343 |       0.585834 |       0.767296 |       0.738834 |       0.707827\n",
    "                    life - own |       0.737053 |       0.582217 |       0.778502 |       0.735951 |       0.708430\n",
    "          anterior - posterior |       0.733388 |       0.576471 |       0.790323 |       0.731343 |       0.707881\n",
    "                  power - time |       0.719611 |       0.533623 |       0.933586 |       0.695898 |       0.720680\n",
    "              dearly - install |       0.707107 |       0.500000 |       1.000000 |       0.666667 |       0.718443\n",
    "                   found - own |       0.704802 |       0.544134 |       0.710949 |       0.704776 |       0.666165\n",
    "—————————————————————————————————————————————————————————————————————————————————————————————————————————————————————\n",
    "           arrival - essential |       0.008258 |       0.004098 |       0.009615 |       0.008163 |       0.007534\n",
    "         governments - surface |       0.008251 |       0.003534 |       0.014706 |       0.007042 |       0.008383\n",
    "                king - lesions |       0.008178 |       0.003106 |       0.017857 |       0.006192 |       0.008833\n",
    "              clinical - stood |       0.008178 |       0.003831 |       0.011905 |       0.007634 |       0.007887\n",
    "               till - validity |       0.008172 |       0.003367 |       0.015625 |       0.006711 |       0.008469\n",
    "            evidence - started |       0.008159 |       0.003802 |       0.012048 |       0.007576 |       0.007896\n",
    "               forces - record |       0.008152 |       0.003876 |       0.011364 |       0.007722 |       0.007778\n",
    "               primary - stone |       0.008146 |       0.004065 |       0.009091 |       0.008097 |       0.007350\n",
    "             beneath - federal |       0.008134 |       0.004082 |       0.008403 |       0.008130 |       0.007187\n",
    "                factors - rose |       0.008113 |       0.004032 |       0.009346 |       0.008032 |       0.007381\n",
    "           evening - functions |       0.008069 |       0.004049 |       0.008333 |       0.008065 |       0.007129\n",
    "                   bone - told |       0.008061 |       0.003704 |       0.012346 |       0.007380 |       0.007873\n",
    "             building - occurs |       0.008002 |       0.003891 |       0.010309 |       0.007752 |       0.007489\n",
    "                 company - fig |       0.007913 |       0.003257 |       0.015152 |       0.006494 |       0.008204\n",
    "               chronic - north |       0.007803 |       0.003268 |       0.014493 |       0.006515 |       0.008020\n",
    "             evaluation - king |       0.007650 |       0.003030 |       0.015625 |       0.006042 |       0.008087\n",
    "             resulting - stood |       0.007650 |       0.003663 |       0.010417 |       0.007299 |       0.007257\n",
    "                 agent - round |       0.007515 |       0.003289 |       0.012821 |       0.006557 |       0.007546\n",
    "         afterwards - analysis |       0.007387 |       0.003521 |       0.010204 |       0.007018 |       0.007032\n",
    "            posterior - spirit |       0.007156 |       0.002660 |       0.016129 |       0.005305 |       0.007812"
   ]
  },
  {
   "cell_type": "markdown",
   "metadata": {},
   "source": [
    "## 3.  HW5.5  <a name=\"1.5\"></a> Evaluation of synonyms that your discovered\n",
    "[Back to Table of Contents](#TOC)\n",
    "\n",
    "\n",
    "In this part of the assignment you will evaluate the success of you synonym detector (developed in response to HW5.4).\n",
    "Take the top 1,000 closest/most similar/correlative pairs of words as determined by your measure in HW5.4, and use the synonyms function in the accompanying python code:\n",
    "\n",
    "nltk_synonyms.py\n",
    "\n",
    "Note: This will require installing the python nltk package:\n",
    "\n",
    "http://www.nltk.org/install.html\n",
    "\n",
    "and downloading its data with nltk.download().\n",
    "\n",
    "For each (word1,word2) pair, check to see if word1 is in the list, \n",
    "synonyms(word2), and vice-versa. If one of the two is a synonym of the other, \n",
    "then consider this pair a 'hit', and then report the precision, recall, and F1 measure  of \n",
    "your detector across your 1,000 best guesses. Report the macro averages of these measures."
   ]
  },
  {
   "cell_type": "markdown",
   "metadata": {
    "collapsed": true
   },
   "source": [
    "### Calculate performance measures:\n",
    "$$Precision (P) = \\frac{TP}{TP + FP} $$  \n",
    "$$Recall (R) = \\frac{TP}{TP + FN} $$  \n",
    "$$F1 = \\frac{2 * ( precision * recall )}{precision + recall}$$\n",
    "\n",
    "\n",
    "We calculate Precision by counting the number of hits and dividing by the number of occurances in our top1000 (opportunities)   \n",
    "We calculate Recall by counting the number of hits, and dividing by the number of synonyms in wordnet (syns)\n",
    "\n",
    "\n",
    "Other diagnostic measures not implemented here:  https://en.wikipedia.org/wiki/F1_score#Diagnostic_Testing"
   ]
  },
  {
   "cell_type": "code",
   "execution_count": null,
   "metadata": {
    "collapsed": true
   },
   "outputs": [],
   "source": [
    "''' Performance measures '''\n",
    "from __future__ import division\n",
    "import numpy as np\n",
    "import json\n",
    "import nltk\n",
    "from nltk.corpus import wordnet as wn\n",
    "import sys\n",
    "#print all the synset element of an element\n",
    "def synonyms(string):\n",
    "    syndict = {}\n",
    "    for i,j in enumerate(wn.synsets(string)):\n",
    "        syns = j.lemma_names()\n",
    "        for syn in syns:\n",
    "            syndict.setdefault(syn,1)\n",
    "    return syndict.keys()\n",
    "hits = []\n",
    "\n",
    "TP = 0\n",
    "FP = 0\n",
    "\n",
    "TOTAL = 0\n",
    "flag = False # so we don't double count, but at the same time don't miss hits\n",
    "\n",
    "## For this part we can use one of three outputs. They are all the same, but were generated differently\n",
    "# 1. the top 1000 from the full sorted dataset -> sortedSims[:1000]\n",
    "# 2. the top 1000 from the partial sort aggragate file -> sims2/top1000sims\n",
    "# 3. the top 1000 from the total order sort file -> head -1000 sims_parts/part-00004\n",
    "\n",
    "top1000sims = []\n",
    "with open(\"sims2/top1000sims\",\"r\") as f:\n",
    "    for line in f.readlines():\n",
    "\n",
    "        line = line.strip()\n",
    "        avg,lisst = line.split(\"\\t\")\n",
    "        lisst = json.loads(lisst)\n",
    "        lisst.append(avg)\n",
    "        top1000sims.append(lisst)\n",
    "    \n",
    "\n",
    "measures = {}\n",
    "not_in_wordnet = []\n",
    "\n",
    "for line in top1000sims:\n",
    "    TOTAL += 1\n",
    "\n",
    "    pair = line[0]\n",
    "    words = pair.split(\" - \")\n",
    "    \n",
    "    for word in words:\n",
    "        if word not in measures:\n",
    "            measures[word] = {\"syns\":0,\"opps\": 0,\"hits\":0}\n",
    "        measures[word][\"opps\"] += 1 \n",
    "    \n",
    "    syns0 = synonyms(words[0])\n",
    "    measures[words[1]][\"syns\"] = len(syns0)\n",
    "    if len(syns0) == 0:\n",
    "        not_in_wordnet.append(words[0])\n",
    "        \n",
    "    if words[1] in syns0:\n",
    "        TP += 1\n",
    "        hits.append(line)\n",
    "        flag = True\n",
    "        measures[words[1]][\"hits\"] += 1\n",
    "        \n",
    "        \n",
    "        \n",
    "    syns1 = synonyms(words[1]) \n",
    "    measures[words[0]][\"syns\"] = len(syns1)\n",
    "    if len(syns1) == 0:\n",
    "        not_in_wordnet.append(words[1])\n",
    "\n",
    "    if words[0] in syns1:\n",
    "        if flag == False:\n",
    "            TP += 1\n",
    "            hits.append(line)\n",
    "            measures[words[0]][\"hits\"] += 1\n",
    "            \n",
    "    flag = False    \n",
    "\n",
    "precision = []\n",
    "recall = []\n",
    "f1 = []\n",
    "\n",
    "for key in measures:\n",
    "    p,r,f = 0,0,0\n",
    "    if measures[key][\"hits\"] > 0 and measures[key][\"syns\"] > 0:\n",
    "        p = measures[key][\"hits\"]/measures[key][\"opps\"]\n",
    "        r = measures[key][\"hits\"]/measures[key][\"syns\"]\n",
    "        f = 2 * (p*r)/(p+r)\n",
    "    \n",
    "    # For calculating measures, only take into account words that have synonyms in wordnet\n",
    "    if measures[key][\"syns\"] > 0:\n",
    "        precision.append(p)\n",
    "        recall.append(r)\n",
    "        f1.append(f)\n",
    "\n",
    "    \n",
    "# Take the mean of each measure    \n",
    "print \"—\"*110    \n",
    "print \"Number of Hits:\",TP, \"out of top\",TOTAL\n",
    "print \"Number of words without synonyms:\",len(not_in_wordnet)\n",
    "print \"—\"*110 \n",
    "print \"Precision\\t\", np.mean(precision)\n",
    "print \"Recall\\t\\t\", np.mean(recall)\n",
    "print \"F1\\t\\t\", np.mean(f1)\n",
    "print \"—\"*110  \n",
    "\n",
    "print \"Words without synonyms:\"\n",
    "print \"-\"*100\n",
    "\n",
    "for word in not_in_wordnet:\n",
    "    print synonyms(word),word\n",
    "\n",
    "    "
   ]
  },
  {
   "cell_type": "markdown",
   "metadata": {},
   "source": [
    "### Sample output"
   ]
  },
  {
   "cell_type": "code",
   "execution_count": null,
   "metadata": {
    "collapsed": true
   },
   "outputs": [],
   "source": [
    "——————————————————————————————————————————————————————————————————————————————————————————————————————————————\n",
    "Number of Hits: 31 out of top 1000\n",
    "Number of words without synonyms: 67\n",
    "——————————————————————————————————————————————————————————————————————————————————————————————————————————————\n",
    "Precision\t0.0280214404967\n",
    "Recall\t\t0.0178598869579\n",
    "F1\t\t0.013965517619\n",
    "——————————————————————————————————————————————————————————————————————————————————————————————————————————————\n",
    "Words without synonyms:\n",
    "----------------------------------------------------------------------------------------------------\n",
    "[] scotia\n",
    "[] hong\n",
    "[] kong\n",
    "[] angeles\n",
    "[] los\n",
    "[] nor\n",
    "[] themselves\n",
    "[] \n",
    "......."
   ]
  },
  {
   "cell_type": "code",
   "execution_count": null,
   "metadata": {
    "collapsed": true
   },
   "outputs": [],
   "source": []
  },
  {
   "cell_type": "code",
   "execution_count": null,
   "metadata": {
    "collapsed": true
   },
   "outputs": [],
   "source": []
  },
  {
   "cell_type": "markdown",
   "metadata": {},
   "source": []
  }
 ],
 "metadata": {
  "kernelspec": {
   "display_name": "Python [Root]",
   "language": "python",
   "name": "Python [Root]"
  },
  "language_info": {
   "codemirror_mode": {
    "name": "ipython",
    "version": 2
   },
   "file_extension": ".py",
   "mimetype": "text/x-python",
   "name": "python",
   "nbconvert_exporter": "python",
   "pygments_lexer": "ipython2",
   "version": "2.7.12"
  }
 },
 "nbformat": 4,
 "nbformat_minor": 0
}
