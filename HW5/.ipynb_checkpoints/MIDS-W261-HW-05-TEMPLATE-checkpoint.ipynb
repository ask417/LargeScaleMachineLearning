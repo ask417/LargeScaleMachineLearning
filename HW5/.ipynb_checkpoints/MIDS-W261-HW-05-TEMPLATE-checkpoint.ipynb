{
 "cells": [
  {
   "cell_type": "markdown",
   "metadata": {},
   "source": [
    "## HW 5.0\n",
    "- What is a data warehouse? What is a Star schema? When is it used?\n",
    "\n",
    "\n",
    "## HW 5.1\n",
    "- In the database world What is 3NF? Does machine learning use data in 3NF? If so why? \n",
    "- In what form does ML consume data?\n",
    "- Why would one use log files that are denormalized?\n",
    "\n",
    "## HW 5.2\n",
    "Using MRJob, implement a hashside join (memory-backed map-side) for left, right and inner joins. Run your code on the  data used in HW 4.4\n",
    "\n",
    "Justify which table you chose as the Left table in this hashside join.\n",
    "\n",
    "Please report the number of rows resulting from:\n",
    "\n",
    "- (1) Left joining Table Left with Table Right\n",
    "- (2) Right joining Table Left with Table Right\n",
    "- (3) Inner joining Table Left with Table Right\n"
   ]
  },
  {
   "cell_type": "code",
   "execution_count": 112,
   "metadata": {
    "collapsed": false
   },
   "outputs": [
    {
     "name": "stdout",
     "output_type": "stream",
     "text": [
      "Overwriting hashside_joins.py\n"
     ]
    }
   ],
   "source": [
    "%%writefile hashside_joins.py\n",
    "#!/usr/bin/env python\n",
    "\n",
    "from mrjob.job import MRJob\n",
    "from mrjob.step import MRStep\n",
    "from collections import defaultdict\n",
    "import itertools\n",
    "import re\n",
    "\n",
    "class HashsideJoin(MRJob):\n",
    "\n",
    "    def configure_options(self):\n",
    "        super(HashsideJoin, self).configure_options()\n",
    "        self.add_passthrough_option(\"--join_type\", type=\"str\")\n",
    "        self.add_passthrough_option(\"--right_table_length\", type=\"int\")\n",
    "        self.add_file_option(\"--left_table\")\n",
    "    \n",
    "    def __init__(self, *args, **kwargs):\n",
    "        super(HashsideJoin, self).__init__(*args, **kwargs)\n",
    "        self.join_type = self.options.join_type\n",
    "        self.right_table_length = self.options.right_table_length\n",
    "    \n",
    "    def mapper_init(self):\n",
    "        self.urlTable = {}\n",
    "        self.keyMatch = {}\n",
    "        with open(self.options.left_table, 'r') as f:\n",
    "            for line in f:\n",
    "                line = line.strip(\"\\n\").split(\",\")\n",
    "                pageId = line[1]\n",
    "                leftTableRow = line[:1] + line[2:]\n",
    "                self.urlTable[pageId] = leftTableRow\n",
    "                self.keyMatch[pageId] = False\n",
    "\n",
    "    #Emit Only matches\n",
    "    def mapper(self, _, line):\n",
    "        line = line.strip(\"\\n\").split(\",\")\n",
    "        pageId = line[1]\n",
    "        rightTableRow = line[:1]+line[2:]\n",
    "        \n",
    "        if self.join_type == \"inner\":\n",
    "            if pageId in self.urlTable.keys():\n",
    "                value = self.urlTable[pageId] + rightTableRow\n",
    "                value = \",\".join(value)\n",
    "                yield pageId,value\n",
    "        if self.join_type == \"right\":\n",
    "            #Need to output the rightTableRow no matter what, \n",
    "            #i'm either padding with Nulls, or i'm tacking on the key match\n",
    "            if pageId in self.urlTable.keys():\n",
    "                value = self.urlTable[pageId] + rightTableRow\n",
    "                value = \",\".join(value)\n",
    "            else:\n",
    "                value = [\"null\"]*len(self.urlTable.values()[0]) + rightTableRow\n",
    "                value = \",\".join(value)\n",
    "            yield pageId, value\n",
    "        if self.join_type == \"left\":\n",
    "            if pageId in self.urlTable.keys():\n",
    "                value = self.urlTable[pageId] + rightTableRow\n",
    "                value = \",\".join(value)\n",
    "                self.keyMatch[pageId] = True\n",
    "                yield pageId,value    \n",
    "                \n",
    "    def mapper_final(self):\n",
    "        if self.join_type == \"left\":\n",
    "            for key in self.keyMatch.keys():\n",
    "                #If there were right table keys matching the left table key \n",
    "                if self.keyMatch[key] == False:\n",
    "                    #Output Null padded rows \n",
    "                    value = self.urlTable[key] + [\"null\"]*self.right_table_length\n",
    "                    value = \",\".join(value)\n",
    "                    yield key, value\n",
    "\n",
    "    def steps(self):\n",
    "        return [MRStep(mapper_init=self.mapper_init, mapper=self.mapper, mapper_final=self.mapper_final)]\n",
    "\n",
    "if __name__=='__main__':\n",
    "    HashsideJoin.run()"
   ]
  },
  {
   "cell_type": "code",
   "execution_count": 104,
   "metadata": {
    "collapsed": false,
    "scrolled": false
   },
   "outputs": [
    {
     "name": "stdout",
     "output_type": "stream",
     "text": [
      "No configs found; falling back on auto-configuration\n",
      "Creating temp directory /tmp/hashside_joins.cloudera.20160930.163715.978851\n",
      "Running step 1 of 1...\n",
      "Streaming final output from /tmp/hashside_joins.cloudera.20160930.163715.978851/output...\n",
      "Removing temp directory /tmp/hashside_joins.cloudera.20160930.163715.978851...\n"
     ]
    }
   ],
   "source": [
    "!./hashside_joins.py anonymous-msweb-preprocessed.data --right_table_length 4 --join_type \"inner\" --left_table JustUrls.txt > inner.txt\n",
    "!./hashside_joins.py anonymous-msweb-preprocessed.data --right_table_length 4 --join_type \"right\" --left_table JustUrls.txt > right.txt\n",
    "!./hashside_joins.py anonymous-msweb-preprocessed.data --right_table_length 4 --join_type \"left\" --left_table JustUrls.txt > left.txt"
   ]
  },
  {
   "cell_type": "code",
   "execution_count": 7,
   "metadata": {
    "collapsed": false
   },
   "outputs": [
    {
     "name": "stdout",
     "output_type": "stream",
     "text": [
      "   98654 inner.txt\n",
      "   98654 right.txt\n",
      "   98704 left.txt\n"
     ]
    }
   ],
   "source": [
    "%%bash\n",
    "\n",
    "wc -l inner.txt\n",
    "wc -l right.txt\n",
    "wc -l left.txt"
   ]
  },
  {
   "cell_type": "markdown",
   "metadata": {},
   "source": [
    "For this exercise I chose the URL only table as my left table, because it was the smaller of the two and thus the easiest one to store into memory.  The inner and right joins have the same number of rows, which makes sense because the set of keys in the customer visit table is a subset of the keys in the url table.  This is also why the left join had the greatest number of rows."
   ]
  },
  {
   "cell_type": "markdown",
   "metadata": {},
   "source": [
    "## HW 5.3  EDA of Google n-grams dataset\n",
    "A large subset of the Google n-grams dataset\n",
    "\n",
    "https://aws.amazon.com/datasets/google-books-ngrams/\n",
    "\n",
    "which we have placed in a bucket/folder on Dropbox on s3:\n",
    "\n",
    "https://www.dropbox.com/sh/tmqpc4o0xswhkvz/AACUifrl6wrMrlK6a3X3lZ9Ea?dl=0 \n",
    "\n",
    "s3://filtered-5grams/\n",
    "\n",
    "In particular, this bucket contains (~200) files (10Meg each) in the format:\n",
    "\n",
    "\t(ngram) \\t (count) \\t (pages_count) \\t (books_count)\n",
    "\n",
    "For HW 5.3-5.5, for the Google n-grams dataset unit test and regression test your code using the \n",
    "first 10 lines of the following file:\n",
    "\n",
    "googlebooks-eng-all-5gram-20090715-0-filtered.txt\n",
    "\n",
    "Once you are happy with your test results proceed to generating  your results on the Google n-grams dataset. \n",
    "\n",
    "Do some EDA on this dataset using mrjob, e.g., \n",
    "\n",
    "- Longest 5-gram (number of characters)\n",
    "- Top 10 most frequent words (please use the count information), i.e., unigrams\n",
    "- 20 Most/Least densely appearing words (count/pages_count) sorted in decreasing order of relative frequency \n",
    "- Distribution of 5-gram sizes (character length).  E.g., count (using the count field) up how many times a 5-gram of 50 characters shows up. Plot the data graphically using a histogram.\n",
    "\n",
    "## HW 5.3.1 OPTIONAL Question:\n",
    "Plot the log-log plot of the frequency distributuion of unigrams. Does it follow power law distribution?\n",
    "\n",
    "For more background see:\n",
    "- https://en.wikipedia.org/wiki/Log%E2%80%93log_plot\n",
    "- https://en.wikipedia.org/wiki/Power_law\n",
    "\n"
   ]
  },
  {
   "cell_type": "code",
   "execution_count": 11,
   "metadata": {
    "collapsed": false
   },
   "outputs": [
    {
     "name": "stdout",
     "output_type": "stream",
     "text": [
      "Overwriting ngramEDA.py\n"
     ]
    }
   ],
   "source": [
    "%%writefile ngramEDA.py\n",
    "#!/usr/bin/env python\n",
    "\n",
    "from mrjob.job import MRJob\n",
    "from mrjob.step import MRStep\n",
    "from collections import defaultdict\n",
    "import itertools\n",
    "import re\n",
    "\n",
    "class NgramEDA(MRJob):\n",
    "\n",
    "    def configure_options(self):\n",
    "        super(NgramEDA, self).configure_options()\n",
    "        self.add_passthrough_option(\"--feature_type\", type=\"str\")\n",
    "    \n",
    "    def __init__(self, *args, **kwargs):\n",
    "        super(NgramEDA, self).__init__(*args, **kwargs)\n",
    "        self.feature_type = self.options.feature_type\n",
    "        \n",
    "    def mapper(self, key, line):\n",
    "        title, count, pages, books = line.strip(\"\\n\").split(\"\\t\")\n",
    "        words = title.split()\n",
    "        numChar = len(title)\n",
    "        \n",
    "        if self.feature_type == \"length\":\n",
    "            yield None, numChar\n",
    "        if self.feature_type == \"frequency\":\n",
    "            for word in words:\n",
    "                yield word, int(count)\n",
    "        if self.feature_type == \"density\":\n",
    "            for word in words:\n",
    "                yield word, (int(count),int(pages))\n",
    "        if self.feature_type == \"distribution\":\n",
    "            yield str(numChar), 1    \n",
    "                    \n",
    "    def reducer(self, key, counts):\n",
    "        if self.feature_type == \"length\":\n",
    "            yield \"Max Length\", max(counts)\n",
    "        if self.feature_type == \"frequency\":\n",
    "            yield key, sum(counts)\n",
    "        if self.feature_type == \"density\":\n",
    "            count, pages = map(sum,zip(*counts))\n",
    "            yield key, float(count)/pages\n",
    "        if self.feature_type == \"distribution\":\n",
    "            yield key, sum(counts)\n",
    "\n",
    "    def steps(self):\n",
    "        return [MRStep(mapper=self.mapper, reducer=self.reducer)]\n",
    "\n",
    "if __name__=='__main__':\n",
    "    NgramEDA.run()"
   ]
  },
  {
   "cell_type": "code",
   "execution_count": 127,
   "metadata": {
    "collapsed": false,
    "scrolled": true
   },
   "outputs": [
    {
     "name": "stdout",
     "output_type": "stream",
     "text": [
      "No configs found; falling back on auto-configuration\n",
      "Creating temp directory /tmp/ngramEDA.cloudera.20160930.202854.170922\n",
      "Running step 1 of 1...\n",
      "Streaming final output from /tmp/ngramEDA.cloudera.20160930.202854.170922/output...\n",
      "Removing temp directory /tmp/ngramEDA.cloudera.20160930.202854.170922...\n"
     ]
    }
   ],
   "source": [
    "!./ngramEDA.py google5gram0Top10.txt --feature_type \"length\"  > top10Length.txt\n",
    "!./ngramEDA.py google5gram0Top10.txt --feature_type \"frequency\"  > top10Frequency.txt\n",
    "!./ngramEDA.py google5gram0Top10.txt --feature_type \"density\"  > top10Density.txt\n",
    "!./ngramEDA.py google5gram0Top10.txt --feature_type \"distribution\"  > top10Distribution.txt"
   ]
  },
  {
   "cell_type": "markdown",
   "metadata": {},
   "source": [
    "## HW 5.4  Synonym detection over 2Gig of Data\n",
    "\n",
    "For the remainder of this assignment you will work with two datasets:\n",
    "\n",
    "### 1: unit/systems test data set: SYSTEMS TEST DATASET\n",
    "Three terms, A,B,C and their corresponding strip-docs of co-occurring terms\n",
    "\n",
    "- DocA {X:20, Y:30, Z:5}\n",
    "- DocB {X:100, Y:20}\n",
    "- DocC {M:5, N:20, Z:5}\n",
    "\n",
    "### 2: A large subset of the Google n-grams dataset as was described above\n",
    "\n",
    "For each HW 5.4 -5.5.1 Please unit test and system test your code with respect \n",
    "to SYSTEMS TEST DATASET and show the results. \n",
    "Please compute the expected answer by hand and show your hand calculations for the \n",
    "SYSTEMS TEST DATASET. Then show the results you get with you system.\n",
    "\n",
    "In this part of the assignment we will focus on developing methods\n",
    "for detecting synonyms, using the Google 5-grams dataset. To accomplish\n",
    "this you must script two main tasks using MRJob:\n",
    "\n",
    "(1) Build stripes for the most frequent 10,000 words using cooccurence informationa based on\n",
    "the words ranked from 9001,-10,000 as a basis/vocabulary (drop stopword-like terms),\n",
    "and output to a file in your bucket on s3 (bigram analysis, though the words are non-contiguous).\n",
    "\n",
    "\n",
    "(2) Using two (symmetric) comparison methods of your choice \n",
    "(e.g., correlations, distances, similarities), pairwise compare \n",
    "all stripes (vectors), and output to a file in your bucket on s3.\n",
    "\n",
    "==Design notes for (1)==\n",
    "For this task you will be able to modify the pattern we used in HW 3.2\n",
    "(feel free to use the solution as reference). To total the word counts \n",
    "across the 5-grams, output the support from the mappers using the total \n",
    "order inversion pattern:\n",
    "\n",
    "<*word,count>\n",
    "\n",
    "to ensure that the support arrives before the cooccurrences.\n",
    "\n",
    "In addition to ensuring the determination of the total word counts,\n",
    "the mapper must also output co-occurrence counts for the pairs of\n",
    "words inside of each 5-gram. Treat these words as a basket,\n",
    "as we have in HW 3, but count all stripes or pairs in both orders,\n",
    "i.e., count both orderings: (word1,word2), and (word2,word1), to preserve\n",
    "symmetry in our output for (2).\n",
    "\n",
    "==Design notes for (2)==\n",
    "For this task you will have to determine a method of comparison.\n",
    "Here are a few that you might consider:\n",
    "\n",
    "- Jaccard\n",
    "- Cosine similarity\n",
    "- Spearman correlation\n",
    "- Euclidean distance\n",
    "- Taxicab (Manhattan) distance\n",
    "- Shortest path graph distance (a graph, because our data is symmetric!)\n",
    "- Pearson correlation\n",
    "- Kendall correlation\n",
    "\n",
    "However, be cautioned that some comparison methods are more difficult to\n",
    "parallelize than others, and do not perform more associations than is necessary, \n",
    "since your choice of association will be symmetric.\n",
    "\n",
    "Please use the inverted index (discussed in live session #5) based pattern to compute the pairwise (term-by-term) similarity matrix. \n",
    "\n",
    "Please report the size of the cluster used and the amount of time it takes to run for the index construction task and for the synonym calculation task. How many pairs need to be processed (HINT: use the posting list length to calculate directly)? Report your  Cluster configuration!\n",
    "\n"
   ]
  },
  {
   "cell_type": "markdown",
   "metadata": {},
   "source": [
    "## HW 5.5 Evaluation of synonyms that your discovered\n",
    "In this part of the assignment you will evaluate the success of you synonym detector (developed in response to HW5.4).\n",
    "Take the top 1,000 closest/most similar/correlative pairs of words as determined by your measure in HW5.4, and use the synonyms function in the accompanying python code:\n",
    "\n",
    "nltk_synonyms.py\n",
    "\n",
    "Note: This will require installing the python nltk package:\n",
    "\n",
    "http://www.nltk.org/install.html\n",
    "\n",
    "and downloading its data with nltk.download().\n",
    "\n",
    "For each (word1,word2) pair, check to see if word1 is in the list, \n",
    "synonyms(word2), and vice-versa. If one of the two is a synonym of the other, \n",
    "then consider this pair a 'hit', and then report the precision, recall, and F1 measure  of \n",
    "your detector across your 1,000 best guesses. Report the macro averages of these measures."
   ]
  },
  {
   "cell_type": "markdown",
   "metadata": {},
   "source": [
    "## HW5.6 (Optional)\n",
    "\n",
    "Repeat HW5 using vocabulary words ranked from 8001,-10,000;  7001,-10,000; 6001,-10,000; 5001,-10,000; 3001,-10,000; and 1001,-10,000;\n",
    "Dont forget to report you Cluster configuration.\n",
    "\n",
    "Generate the following graphs:\n",
    "-- vocabulary size (X-Axis) versus CPU time for indexing\n",
    "-- vocabulary size (X-Axis) versus number of pairs processed\n",
    "-- vocabulary size (X-Axis) versus F1 measure, Precision, Recall"
   ]
  },
  {
   "cell_type": "markdown",
   "metadata": {},
   "source": [
    "## HW 5.7 (Optional)\n",
    "There is also a corpus of stopwords, that is, high-frequency words like \"the\", \"to\" and \"also\" that we sometimes want to filter out of a document before further processing. Stopwords usually have little lexical content, and their presence in a text fails to distinguish it from other texts. Python's nltk comes with a prebuilt list of stopwords (see below). Using this stopword list filter out these tokens from your analysis and rerun the experiments in 5.5 and disucuss the results of using a stopword list and without using a stopword list.\n",
    "\n",
    "> from nltk.corpus import stopwords\n",
    ">> stopwords.words('english')\n",
    "['i', 'me', 'my', 'myself', 'we', 'our', 'ours', 'ourselves', 'you', 'your', 'yours',\n",
    "'yourself', 'yourselves', 'he', 'him', 'his', 'himself', 'she', 'her', 'hers',\n",
    "'herself', 'it', 'its', 'itself', 'they', 'them', 'their', 'theirs', 'themselves',\n",
    "'what', 'which', 'who', 'whom', 'this', 'that', 'these', 'those', 'am', 'is', 'are',\n",
    "'was', 'were', 'be', 'been', 'being', 'have', 'has', 'had', 'having', 'do', 'does',\n",
    "'did', 'doing', 'a', 'an', 'the', 'and', 'but', 'if', 'or', 'because', 'as', 'until',\n",
    "'while', 'of', 'at', 'by', 'for', 'with', 'about', 'against', 'between', 'into',\n",
    "'through', 'during', 'before', 'after', 'above', 'below', 'to', 'from', 'up', 'down',\n",
    "'in', 'out', 'on', 'off', 'over', 'under', 'again', 'further', 'then', 'once', 'here',\n",
    "'there', 'when', 'where', 'why', 'how', 'all', 'any', 'both', 'each', 'few', 'more',\n",
    "'most', 'other', 'some', 'such', 'no', 'nor', 'not', 'only', 'own', 'same', 'so',\n",
    "'than', 'too', 'very', 's', 't', 'can', 'will', 'just', 'don', 'should', 'now']\n",
    "\n"
   ]
  },
  {
   "cell_type": "markdown",
   "metadata": {},
   "source": [
    "test"
   ]
  },
  {
   "cell_type": "markdown",
   "metadata": {},
   "source": [
    "## HW 5.6 (Optional)\n",
    "There are many good ways to build our synonym detectors, so for optional homework, \n",
    "measure co-occurrence by (left/right/all) consecutive words only, \n",
    "or make stripes according to word co-occurrences with the accompanying \n",
    "2-, 3-, or 4-grams (note here that your output will no longer \n",
    "be interpretable as a network) inside of the 5-grams."
   ]
  },
  {
   "cell_type": "markdown",
   "metadata": {},
   "source": [
    "## Hw 5.7 (Optional)\n",
    "Once again, benchmark your top 10,000 associations (as in 5.5), this time for your\n",
    "results from 5.6. Has your detector improved?"
   ]
  },
  {
   "cell_type": "code",
   "execution_count": null,
   "metadata": {
    "collapsed": true
   },
   "outputs": [],
   "source": []
  }
 ],
 "metadata": {
  "kernelspec": {
   "display_name": "Python 2",
   "language": "python",
   "name": "python2"
  },
  "language_info": {
   "codemirror_mode": {
    "name": "ipython",
    "version": 2
   },
   "file_extension": ".py",
   "mimetype": "text/x-python",
   "name": "python",
   "nbconvert_exporter": "python",
   "pygments_lexer": "ipython2",
   "version": "2.7.11"
  }
 },
 "nbformat": 4,
 "nbformat_minor": 0
}
