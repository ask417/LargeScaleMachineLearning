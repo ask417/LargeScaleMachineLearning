{
 "cells": [
  {
   "cell_type": "markdown",
   "metadata": {},
   "source": [
    "## MIDS UC Berkeley, Machine Learning at Scale \n",
    " \n",
    "__W261-1__ Summer 2016    \n",
    "__Week 7__: SSSP    \n",
    "\n",
    "__Name__   \n",
    "name@ischool.berkeley.edu  \n",
    "\n",
    "July 1, 2016   \n",
    "\n",
    "***"
   ]
  },
  {
   "cell_type": "markdown",
   "metadata": {},
   "source": [
    "<h1 style=\"color:#021353;\">General Description</h1>\n",
    "<div style=\"margin:10px;border-left:5px solid #eee;\">\n",
    "<pre style=\"font-family:sans-serif;background-color:transparent\">\n",
    "In this assignment you will explore networks and develop MRJob code for \n",
    "finding shortest path graph distances. To build up to large data \n",
    "you will develop your code on some very simple, toy networks.\n",
    "After this you will take your developed code forward and modify it and \n",
    "apply it to two larger datasets (performing EDA along the way).\n",
    "\n",
    "<h3>Undirected toy network dataset</h3>\n",
    "\n",
    "\n",
    "In an undirected network all links are symmetric, \n",
    "i.e., for a pair of nodes 'A' and 'B,' both of the links:\n",
    "\n",
    "A -> B and B -> A\n",
    "\n",
    "will exist. \n",
    "\n",
    "The toy data are available in a sparse (stripes) representation:\n",
    "\n",
    "(node) \\t (dictionary of links)\n",
    "\n",
    "on AWS/Dropbox via the url:\n",
    "\n",
    "s3://ucb-mids-mls-networks/undirected_toy.txt\n",
    "On under the Data Subfolder for HW7 on Dropbox with the same file name. \n",
    "The Data folder is in: https://db.tt/Kxu48mL1)\n",
    "\n",
    "In the dictionary, target nodes are keys, link weights are values \n",
    "(here, all weights are 1, i.e., the network is unweighted).\n",
    "\n",
    "\n",
    "<h3>Directed toy network dataset</h3>\n",
    "\n",
    "In a directed network all links are not necessarily symmetric, \n",
    "i.e., for a pair of nodes 'A' and 'B,' it is possible for only one of:\n",
    "\n",
    "A -> B or B -> A\n",
    "\n",
    "to exist. \n",
    "\n",
    "These toy data are available in a sparse (stripes) representation:\n",
    "\n",
    "(node) \\t (dictionary of links)\n",
    "\n",
    "on AWS/Dropbox via the url:\n",
    "\n",
    "s3://ucb-mids-mls-networks/directed_toy.txt\n",
    "Or under the Data Subfolder for HW7 on Dropbox with the same file name\n",
    "(On Dropbox https://www.dropbox.com/sh/2c0k5adwz36lkcw/AAAAKsjQfF9uHfv-X9mCqr9wa?dl=0)\n",
    "\n",
    "In the dictionary, target nodes are keys, link weights are values \n",
    "(here, all weights are 1, i.e., the network is unweighted).\n",
    "</pre>\n",
    "</div>"
   ]
  },
  {
   "cell_type": "markdown",
   "metadata": {},
   "source": [
    "<h1 style=\"color:#021353;\">HW 7.0: Shortest path graph distances (toy networks)</h1>\n",
    "<div style=\"margin:10px;border-left:5px solid #eee;\">\n",
    "<pre style=\"font-family:sans-serif;background-color:transparent\">\n",
    "In this part of your assignment you will develop the base of your code for the week.\n",
    "\n",
    "Write MRJob classes to find shortest path graph distances, as described in the lectures. In addition to finding the distances, your code should also output a distance-minimizing path between the source and target.\n",
    "Work locally for this part of the assignment, and use both of the undirected and directed toy networks.\n",
    "\n",
    "To proof you code's function, run the following jobs\n",
    "\n",
    "- shortest path in the undirected network from node 1 to node 4\n",
    "Solution: 1,5,4. NOTE: There is another shortest path also (HINT: 1->5->4)! Either will suffice (you will find this also in the remaining problems. E.g., 7.2 and 7.4.\n",
    " \n",
    "\n",
    "- shortest path in the directed network from node 1 to node 5\n",
    "Solution: 1,2,4,5\n",
    "\n",
    "and report your output---make sure it is correct!\n",
    "\n",
    "<h3>Main dataset 1: NLTK synonyms</h3>\n",
    "\n",
    "In the next part of this assignment you will explore a network derived from the NLTK synonym database used for evaluation in HW 5. At a high level, this network is undirected, defined so that there exists link between two nodes/words if the pair or words are a synonym. These data may be found at the location:\n",
    "\n",
    "<a href=\"s3://ucb-mids-mls-networks/synNet/synNet.txt\">s3://ucb-mids-mls-networks/synNet/synNet.txt</a>\n",
    "<a href=\"s3://ucb-mids-mls-networks/synNet/indices.txt\">s3://ucb-mids-mls-networks/synNet/indices.txt</a>\n",
    "On under the Data Subfolder for HW7 on Dropbox with the same file names\n",
    "\n",
    "where synNet.txt contains a sparse representation of the network:\n",
    "\n",
    "(index) \\t (dictionary of links)\n",
    "\n",
    "in indexed form, and indices.txt contains a lookup list\n",
    "\n",
    "(word) \\t (index)\n",
    "\n",
    "of indices and words. This network is small enough for you to explore and run\n",
    "scripts locally, but will also be good for a systems test (for later) on AWS.\n",
    "\n",
    "In the dictionary, target nodes are keys, link weights are values \n",
    "(here, all weights are 1, i.e., the network is unweighted).\n",
    "</pre>\n",
    "</div>"
   ]
  },
  {
   "cell_type": "code",
   "execution_count": 114,
   "metadata": {
    "collapsed": false
   },
   "outputs": [
    {
     "name": "stdout",
     "output_type": "stream",
     "text": [
      "Overwriting identity.py\n"
     ]
    }
   ],
   "source": [
    "%%writefile identity.py\n",
    "#!/Users/AnthonySpalvieriKruse/anaconda/bin/python\n",
    "\n",
    "from mrjob.job import MRJob\n",
    "from mrjob.step import MRStep\n",
    "import ast\n",
    "\n",
    "class Identity(MRJob):\n",
    "    \n",
    "    def mapper(self, _, value):\n",
    "        key, value = value.strip().split('\\t')\n",
    "        yield key, ast.literal_eval(value)\n",
    "    def steps(self):\n",
    "        return [MRStep(mapper=self.mapper)] \n",
    "    \n",
    "if __name__ == '__main__':\n",
    "    Identity.run()"
   ]
  },
  {
   "cell_type": "code",
   "execution_count": 214,
   "metadata": {
    "collapsed": false
   },
   "outputs": [
    {
     "name": "stdout",
     "output_type": "stream",
     "text": [
      "Overwriting parseGraph.py\n"
     ]
    }
   ],
   "source": [
    "%%writefile parseGraph.py\n",
    "#!/Users/AnthonySpalvieriKruse/anaconda/bin/python\n",
    "\n",
    "from mrjob.job import MRJob\n",
    "from mrjob.step import MRStep\n",
    "import ast\n",
    "\n",
    "class ParseGraph(MRJob):\n",
    "\n",
    "    def configure_options(self):\n",
    "        super(ParseGraph, self).configure_options()\n",
    "        self.add_passthrough_option('--originNode', type = \"str\")\n",
    "    \n",
    "    def __init__(self, *args, **kwargs):\n",
    "        super(ParseGraph, self).__init__(*args, **kwargs)\n",
    "        self.originNode = self.options.originNode\n",
    "        \n",
    "    def mapper(self, key, line):\n",
    "        node, neighbors = line.strip().split(\"\\t\")\n",
    "        if node == self.originNode:\n",
    "            yield node, (ast.literal_eval(neighbors), 0, self.originNode, \"V\")\n",
    "        else:\n",
    "            yield node, (ast.literal_eval(neighbors), 9999999999, '', \"U\")\n",
    "            \n",
    "    def reducer(self, key, line): \n",
    "        #neighbors, distance, path, state = next(line)\n",
    "        #yield key, (neighbors, distance, path, state)\n",
    "        yield key, next(line)\n",
    "            \n",
    "    def steps(self):\n",
    "        return [MRStep(mapper=self.mapper,\n",
    "                       reducer=self.reducer)] \n",
    "    \n",
    "if __name__ == '__main__':\n",
    "    ParseGraph.run()"
   ]
  },
  {
   "cell_type": "code",
   "execution_count": 56,
   "metadata": {
    "collapsed": false
   },
   "outputs": [
    {
     "name": "stdout",
     "output_type": "stream",
     "text": [
      "Overwriting ShortestPathToyz.py\n"
     ]
    }
   ],
   "source": [
    "%%writefile ShortestPathToyz.py\n",
    "#!/Users/AnthonySpalvieriKruse/anaconda/bin/python\n",
    "\n",
    "from mrjob.job import MRJob\n",
    "from mrjob.step import MRStep\n",
    "import ast\n",
    "\n",
    "class ShortestPathToys(MRJob):\n",
    "\n",
    "    def configure_options(self):\n",
    "        super(ShortestPathToys, self).configure_options()\n",
    "        self.add_passthrough_option('--isFirstPass', type = \"int\", default=0)\n",
    "        self.add_passthrough_option('--originNode', type = \"str\", default = \"1\")\n",
    "    \n",
    "    def __init__(self, *args, **kwargs):\n",
    "        super(ShortestPathToys, self).__init__(*args, **kwargs)\n",
    "        self.isFirstPass = self.options.isFirstPass\n",
    "        self.originNode = self.options.originNode\n",
    "    \n",
    "    def mapper_init(self):\n",
    "        try:\n",
    "            # Read weights file\n",
    "            with open('/Users/AnthonySpalvieriKruse/VirtualBoxShared/HW7/visited.txt', 'r') as f:\n",
    "                self.visited = set(f.readlines()[0].split(','))\n",
    "        except IndexError:\n",
    "            self.visited = set()\n",
    "        \n",
    "    def mapper(self, _, line):\n",
    "        node, value = line.strip().split('\\t')\n",
    "        node = node.strip('\"') #just in case\n",
    "        if self.isFirstPass:\n",
    "            node, neighbors = line.strip().split(\"\\t\")\n",
    "            if node == self.originNode:\n",
    "                yield node, (ast.literal_eval(neighbors), 0, self.originNode, \"V\")\n",
    "            else:\n",
    "                yield node, (ast.literal_eval(neighbors), 9999999999, '', \"U\")\n",
    "        else:\n",
    "            frontier, distance, path, state = ast.literal_eval(value)\n",
    "            if state == \"V\":\n",
    "                for neighbor in frontier:\n",
    "                    if neighbor not in self.visited:\n",
    "                        if path:\n",
    "                            yield neighbor, (None, distance+1, path+\"-\"+neighbor, \"Q\")\n",
    "                        else:\n",
    "                            yield neighbor, (None, distance+1, neighbor, \"Q\")      \n",
    "            yield node, (frontier, distance, path, state)\n",
    "            \n",
    "    def reducer(self, key, line): \n",
    "        if self.isFirstPass:\n",
    "            yield int(key), next(line)\n",
    "        else:\n",
    "            frontiers=[]\n",
    "            distances=[]\n",
    "            states=[]\n",
    "            truePath=''\n",
    "\n",
    "            for frontier, distance, path, state in line:\n",
    "                frontiers.append(frontier)\n",
    "                distances.append(distance)\n",
    "                states.append(state)\n",
    "                if path!='':\n",
    "                    truePath = path\n",
    "\n",
    "            if \"Q\" in states:\n",
    "                if len([frontier for frontier in frontiers if frontier!=None])==0:\n",
    "                    yield key, ({}, min(distances), truePath, \"V\")\n",
    "                else:\n",
    "                    yield key, ([frontier for frontier in frontiers if frontier!=None][0], min(distances), truePath, \"V\") \n",
    "            else:\n",
    "                yield key, (frontier, distance, truePath, state)\n",
    "            \n",
    "    def steps(self):\n",
    "        return [MRStep(mapper_init=self.mapper_init, mapper=self.mapper,reducer=self.reducer)] \n",
    "    \n",
    "if __name__ == '__main__':\n",
    "    ShortestPathToys.run()"
   ]
  },
  {
   "cell_type": "code",
   "execution_count": null,
   "metadata": {
    "collapsed": true
   },
   "outputs": [],
   "source": []
  },
  {
   "cell_type": "code",
   "execution_count": 118,
   "metadata": {
    "collapsed": false
   },
   "outputs": [
    {
     "name": "stdout",
     "output_type": "stream",
     "text": [
      "Overwriting shortestPathToyRunner.py\n"
     ]
    }
   ],
   "source": [
    "%%writefile shortestPathToyRunner.py\n",
    "#!/Users/AnthonySpalvieriKruse/anaconda/bin/python\n",
    "\n",
    "from numpy import random,array\n",
    "from ShortestPathToyz import ShortestPathToys\n",
    "import sys \n",
    "\n",
    "mr_job = ShortestPathToys(args=[sys.argv[3],\"--originNode\",sys.argv[1], \"--isFirstPass\", '1', \"--output-dir\", \"output/\"])\n",
    "visited = set()\n",
    "firstPass = True\n",
    "i=0\n",
    "visitedLength = 0 \n",
    "\n",
    "#Clear visited file from previous runs\n",
    "with open('visited.txt', 'w+') as f:\n",
    "        f.writelines(','.join(str(j) for j in visited))\n",
    "        \n",
    "while(1):\n",
    "    print \"iteration =\"+str(i)+\"  visited =\", str(len(visited))\n",
    "    allVisited = True\n",
    "    output = {}\n",
    "    \n",
    "    with mr_job.make_runner() as runner: \n",
    "        runner.run()\n",
    "        \n",
    "        # stream_output: get access of the output \n",
    "        for line in runner.stream_output():\n",
    "            # value is the gradient value\n",
    "            node, value =  mr_job.parse_output_line(line)\n",
    "            #print node, value\n",
    "            frontier, distance, path, state = value\n",
    "            output[node]=value\n",
    "            \n",
    "            if state == \"V\":\n",
    "                visited.add(node)\n",
    "            else:\n",
    "                allVisited = False\n",
    "    \n",
    "    if firstPass:\n",
    "        mr_job = ShortestPathToys(args=['output/', \"--file\", \"indices.txt\", \"--file\", \"visited.txt\",\"--originNode\", sys.argv[1], \"--isFirstPass\", '0', \"--output-dir\", \"output/\"])\n",
    "        firstPass = False\n",
    "        \n",
    "    i = i + 1\n",
    "    \n",
    "    with open('visited.txt', 'w+') as f:\n",
    "        f.writelines(','.join(str(j) for j in visited))\n",
    "        \n",
    "    if allVisited or len(visited)-visitedLength == 0:\n",
    "        break\n",
    "\n",
    "    visitedLength = len(visited)\n",
    "    \n",
    "print \"iteration =\"+str(i)+\"  visited =\", str(len(visited))\n",
    "\n",
    "print output[sys.argv[2]]"
   ]
  },
  {
   "cell_type": "markdown",
   "metadata": {},
   "source": [
    "<h1 style=\"color:#021353;\">HW 7.1: Exploratory data analysis (NLTK synonyms)</h1>\n",
    "<div style=\"margin:10px;border-left:5px solid #eee;\">\n",
    "<pre style=\"font-family:sans-serif;background-color:transparent\">\n",
    "Using MRJob, explore the synonyms network data.\n",
    "Consider plotting the degree distribution (does it follow a power law?),\n",
    "and determine some of the key features, like:\n",
    "\n",
    "number of nodes, \n",
    "number links,\n",
    "or the average degree (i.e., the average number of links per node),\n",
    "etc...\n",
    "\n",
    "As you develop your code, please be sure to run it locally first (though on the whole dataset). \n",
    "Once you have gotten you code to run locally, deploy it on AWS as a systems test\n",
    "in preparation for our next dataset (which will require AWS).\n",
    "</pre>\n",
    "</div>\n"
   ]
  },
  {
   "cell_type": "code",
   "execution_count": 116,
   "metadata": {
    "collapsed": false
   },
   "outputs": [
    {
     "name": "stdout",
     "output_type": "stream",
     "text": [
      "Overwriting nltkEDA.py\n"
     ]
    }
   ],
   "source": [
    "%%writefile nltkEDA.py\n",
    "#!/Users/AnthonySpalvieriKruse/anaconda/bin/python\n",
    "\n",
    "from mrjob.job import MRJob\n",
    "from mrjob.step import MRStep\n",
    "import ast\n",
    "import itertools\n",
    "\n",
    "class EDA(MRJob):\n",
    "    \n",
    "    def configure_options(self):\n",
    "        super(EDA, self).configure_options()\n",
    "        self.add_passthrough_option('--feature', type = \"str\")\n",
    "        \n",
    "    def __init__(self, *args, **kwargs):\n",
    "        super(EDA, self).__init__(*args, **kwargs)\n",
    "        self.feature = self.options.feature\n",
    "        self.frequency = 0 \n",
    "        self.numLinks = 0\n",
    "        self.minDegree = 0\n",
    "        self.maxDegree = 0 \n",
    "        self.options.jobconf = {\"mapred.reduce.tasks\":1 }\n",
    "        \n",
    "    def mapper(self, key, line):\n",
    "        node, neighbors = line.strip().split(\"\\t\")\n",
    "        neighbors = ast.literal_eval(neighbors)\n",
    "        numLinks = len(neighbors)\n",
    "        \n",
    "        if self.feature == \"numNodes\":\n",
    "            yield node, 1\n",
    "        elif self.feature == \"numLinks\":\n",
    "            yield node, numLinks\n",
    "        elif self.feature == \"averageDegree\":\n",
    "            yield node, numLinks\n",
    "        elif self.feature == \"minMaxDegree\":\n",
    "            yield None, numLinks\n",
    "        else:\n",
    "            print \"Acceptable features: numNodes, numLinks, averageDegree, minMaxDegree\"\n",
    "            exit()\n",
    "            \n",
    "    def combiner(self, key, values):\n",
    "        if self.feature == \"numNodes\":\n",
    "            yield node, 1\n",
    "        elif self.feature == \"numLinks\":\n",
    "            yield key, sum(values)\n",
    "        elif self.feature == \"averageDegree\":\n",
    "            yield key, sum(values)\n",
    "        elif self.feature == \"minMaxDegree\":\n",
    "            values, valuesCp = itertools.tee(values)\n",
    "            yield None, (min(values), max(valuesCp))\n",
    "        \n",
    "    def reducer(self, key, values):\n",
    "        if self.feature == \"numNodes\":\n",
    "            self.frequency += 1\n",
    "        elif self.feature == \"numLinks\":\n",
    "            self.numLinks += sum(values)\n",
    "        elif self.feature == \"averageDegree\":  \n",
    "            self.frequency +=1\n",
    "            self.numLinks += sum(values)\n",
    "        elif self.feature == \"minMaxDegree\":\n",
    "            values, valuesCp = itertools.tee(values)\n",
    "            self.maxDegree = max(values)\n",
    "            self.minDegree = min(valuesCp)\n",
    "    \n",
    "    def reducer_final(self):\n",
    "        if self.feature == \"numNodes\":\n",
    "            yield \"Number of Nodes: \", self.frequency\n",
    "        elif self.feature == \"numLinks\":\n",
    "            yield \"Number of Links\", self.numLinks\n",
    "        elif self.feature == \"averageDegree\":\n",
    "            yield \"Average Degree: \", float(self.numLinks)/self.frequency\n",
    "        elif self.feature == \"minMaxDegree\":\n",
    "            yield \"Min/Max Degree: \", (self.minDegree, self.maxDegree)\n",
    "        \n",
    "    \n",
    "    def steps(self):\n",
    "        return [MRStep(mapper=self.mapper,reducer=self.reducer,\n",
    "                      reducer_final=self.reducer_final)] \n",
    "    \n",
    "if __name__ == '__main__':\n",
    "    EDA.run()"
   ]
  },
  {
   "cell_type": "code",
   "execution_count": 117,
   "metadata": {
    "collapsed": false
   },
   "outputs": [
    {
     "name": "stdout",
     "output_type": "stream",
     "text": [
      "No configs found; falling back on auto-configuration\n",
      "Creating temp directory /var/folders/tl/kz2xr4bd3dvf07wcdjmvpl680000gn/T/nltkEDA.AnthonySpalvieriKruse.20161031.203554.390850\n",
      "Running step 1 of 1...\n",
      "Streaming final output from /var/folders/tl/kz2xr4bd3dvf07wcdjmvpl680000gn/T/nltkEDA.AnthonySpalvieriKruse.20161031.203554.390850/output...\n",
      "\"Min/Max Degree: \"\t[1, 196]\n",
      "Removing temp directory /var/folders/tl/kz2xr4bd3dvf07wcdjmvpl680000gn/T/nltkEDA.AnthonySpalvieriKruse.20161031.203554.390850...\n"
     ]
    }
   ],
   "source": [
    "!./nltkEDA.py synNet.txt --feature \"numNodes\" \n",
    "!./nltkEDA.py synNet.txt --feature \"numLinks\" \n",
    "!./nltkEDA.py synNet.txt --feature \"averageDegree\" \n",
    "!./nltkEDA.py synNet.txt --feature \"minMaxDegree\" \n"
   ]
  },
  {
   "cell_type": "markdown",
   "metadata": {},
   "source": [
    "<h1 style=\"color:#021353;\">HW 7.2: Shortest path graph distances (NLTK synonyms)</h1>\n",
    "<div style=\"margin:10px;border-left:5px solid #eee;\">\n",
    "<pre style=\"font-family:sans-serif;background-color:transparent\">\n",
    "Write (reuse your code from 7.0) an MRJob class to find shortest path graph distances, \n",
    "and apply it to the NLTK synonyms network dataset. \n",
    "\n",
    "Proof your code's function by running the job:\n",
    "\n",
    "- shortest path starting at \"walk\" (index=7827) and ending at \"make\" (index=536),\n",
    "\n",
    "and showing you code's output. Once again, your output should include the path and the distance.\n",
    "\n",
    "As you develop your code, please be sure to run it locally first (though on the whole dataset). \n",
    "Once you have gotten you code to run locally, deploy it on AWS as a systems test\n",
    "in preparation for our next dataset (which will require AWS).\n",
    "\n",
    "=====================================\n",
    "<strong>NOTE: Dataset 2 English Wikipedia hyperlink network.data </strong>\n",
    "The dataset is available via Dropbox at:\n",
    "\n",
    "https://www.dropbox.com/sh/2c0k5adwz36lkcw/AAAAKsjQfF9uHfv-X9mCqr9wa?dl=0\n",
    "\n",
    "on S3 at \n",
    "<a href=\"s3://ucb-mids-mls-networks/wikipedia/\">s3://ucb-mids-mls-networks/wikipedia/</a>\n",
    "<a href=\"s3://ucb-mids-mls-networks/wikipedia/all-pages-indexed-out.txt\">s3://ucb-mids-mls-networks/wikipedia/all-pages-indexed-out.txt</a> # Graph\n",
    "<a href=\"s3://ucb-mids-mls-networks/wikipedia/indices.txt\">s3://ucb-mids-mls-networks/wikipedia/indices.txt</a> # Page titles and page Ids\n",
    "\n",
    "For the remainder of this assignment you will explore the English Wikipedia hyperlink network.\n",
    "\n",
    "The dataset is built from the Sept. 2015 XML snapshot of English Wikipedia.\n",
    "For this directed network, a link between articles: \n",
    "\n",
    "A -> B\n",
    "\n",
    "is defined by the existence of a hyperlink in A pointing to B.\n",
    "This network also exists in the indexed format:\n",
    "\n",
    "Data: <a href=\"s3://ucb-mids-mls-networks/wikipedia/all-pages-indexed-out.txt\">s3://ucb-mids-mls-networks/wikipedia/all-pages-indexed-out.txt</a>\n",
    "Data: <a href=\"s3://ucb-mids-mls-networks/wikipedia/all-pages-indexed-in.txt\">s3://ucb-mids-mls-networks/wikipedia/all-pages-indexed-in.txt</a>\n",
    "Data: <a href=\"s3://ucb-mids-mls-networks/wikipedia/indices.txt\">s3://ucb-mids-mls-networks/wikipedia/indices.txt</a>\n",
    "\n",
    "but has an index with more detailed data:\n",
    "\n",
    "(article name) \\t (index) \\t (in degree) \\t (out degree)\n",
    "\n",
    "In the dictionary, target nodes are keys, link weights are values .\n",
    "Here, a weight indicates the number of time a page links to another.\n",
    "However, for the sake of this assignment, treat this an unweighted network,\n",
    "and set all weights to 1 upon data input.\n",
    "\n",
    "</pre>\n",
    "</div>"
   ]
  },
  {
   "cell_type": "code",
   "execution_count": null,
   "metadata": {
    "collapsed": true
   },
   "outputs": [],
   "source": [
    "!./shortestPathToyRunner.py 7827 536 synNet.txt"
   ]
  },
  {
   "cell_type": "markdown",
   "metadata": {},
   "source": [
    "<h1 style=\"color:#021353;\">HW 7.3: Exploratory data analysis (Wikipedia)</h1>\n",
    "<div style=\"margin:10px;border-left:5px solid #eee;\">\n",
    "<pre style=\"font-family:sans-serif;background-color:transparent\">\n",
    "Using MRJob, explore the Wikipedia network data on the AWS cloud. Reuse your code from HW 7.1---does is scale well? \n",
    "\n",
    "Be cautioned that Wikipedia is a directed network, where links are not symmetric. \n",
    "So, even though a node may be linked to, it will not appear as a primary record itself if it has no out-links. \n",
    "\n",
    "This means that you may have to ADJUST your code (depending on its design). \n",
    "\n",
    "To be sure of your code's functionality in this context, run a systems test on the directed_toy.txt network.\n",
    "</pre>\n",
    "</div>"
   ]
  },
  {
   "cell_type": "code",
   "execution_count": null,
   "metadata": {
    "collapsed": true
   },
   "outputs": [],
   "source": [
    "!./nltkEDA.py synNet.txt --feature \"numNodes\" \n",
    "!./nltkEDA.py synNet.txt --feature \"numLinks\" \n",
    "!./nltkEDA.py synNet.txt --feature \"averageDegree\" \n",
    "!./nltkEDA.py synNet.txt --feature \"minMaxDegree\" "
   ]
  },
  {
   "cell_type": "markdown",
   "metadata": {},
   "source": [
    "<h1 style=\"color:#021353;\">HW 7.4: Shortest path graph distances (Wikipedia)</h1>\n",
    "<div style=\"margin:10px;border-left:5px solid #eee;\">\n",
    "<pre style=\"font-family:sans-serif;background-color:transparent\">\n",
    "Using MRJob, find shortest path graph distances in the Wikipedia network on the AWS cloud.\n",
    "Reuse your code from 7.2, but once again be warned of Wikipedia being a directed network.\n",
    "To be sure of your code's functionality in this context, run a systems test on the directed_toy.txt network.\n",
    "\n",
    "When running your code on the Wikipedia network, proof its function by running the job:\n",
    "\n",
    "- shortest path from \"Ireland\" (index=6176135) to \"University of California, Berkeley\" (index=13466359),\n",
    "\n",
    "and show your code's output. Show the shortest path in terms of just page IDS but also in terms of the name of page (show of your MapReduce join skills!!)\n",
    "\n",
    "Once your code is running, find some other shortest paths and report your results.\n",
    "</pre>\n",
    "</div>"
   ]
  },
  {
   "cell_type": "markdown",
   "metadata": {},
   "source": [
    "<h1 style=\"color:#021353;\">HW 7.5: Conceptual exercise: Largest single-source network distances</h1>\n",
    "<div style=\"margin:10px;border-left:5px solid #eee;\">\n",
    "<pre style=\"font-family:sans-serif;background-color:transparent\">\n",
    "Suppose you wanted to find the largest network distance from a single source,\n",
    "i.e., a node that is the furthest (but still reachable) from a single source.\n",
    "\n",
    "How would you implement this task? \n",
    "How is this different from finding the shortest path graph distances?\n",
    "\n",
    "Is this task more difficult to implement than the shortest path distance?\n",
    "\n",
    "As you respond, please comment on program structure, runtimes, iterations, general system requirements, etc...\n",
    "</pre>\n",
    "</div>"
   ]
  },
  {
   "cell_type": "markdown",
   "metadata": {},
   "source": [
    "<h1 style=\"color:#021353;\">HW 7.5.1: </h1>\n",
    "<div style=\"margin:10px;border-left:5px solid #eee;\">\n",
    "<pre style=\"font-family:sans-serif;background-color:transparent\">\n",
    "Can we utilize combiners in the HW 7 to perform the shortest path implementation?\n",
    "Does order inversion help with the HW 7 shortest path implementation?\n",
    "</pre>\n",
    "</div>"
   ]
  },
  {
   "cell_type": "markdown",
   "metadata": {},
   "source": [
    "<h1 style=\"color:#021353;\">HW 7.5.2: OPTIONAL </h1>\n",
    "<div style=\"margin:10px;border-left:5px solid #eee;\">\n",
    "<pre style=\"font-family:sans-serif;background-color:transparent\">\n",
    "Implement combiners in the context of HW 7.5 and contrast the performance of this implementation versus the implementation with no combiners. \n",
    "\n",
    "Please report the cluster configuration and runtimes in tabular format for both experiments and comment on your findings.\n",
    "</pre>\n",
    "</div>"
   ]
  },
  {
   "cell_type": "markdown",
   "metadata": {},
   "source": [
    "<h1 style=\"color:#021353;\">HW 7.6: Computational exercise: Largest single-source network distances: OPTIONAL </h1>\n",
    "<div style=\"margin:10px;border-left:5px solid #eee;\">\n",
    "<pre style=\"font-family:sans-serif;background-color:transparent\">\n",
    "Using MRJob, write a code to find the largest graph distance and distance-maximizing nodes from a single-source.\n",
    "Test your code first on the toy networks and synonyms network to proof its function.\n",
    "</pre>\n",
    "</div>"
   ]
  },
  {
   "cell_type": "markdown",
   "metadata": {
    "collapsed": true
   },
   "source": [
    "==================END HW 7=================="
   ]
  },
  {
   "cell_type": "code",
   "execution_count": null,
   "metadata": {
    "collapsed": true
   },
   "outputs": [],
   "source": []
  }
 ],
 "metadata": {
  "kernelspec": {
   "display_name": "Python 2",
   "language": "python",
   "name": "python2"
  },
  "language_info": {
   "codemirror_mode": {
    "name": "ipython",
    "version": 2
   },
   "file_extension": ".py",
   "mimetype": "text/x-python",
   "name": "python",
   "nbconvert_exporter": "python",
   "pygments_lexer": "ipython2",
   "version": "2.7.11"
  }
 },
 "nbformat": 4,
 "nbformat_minor": 0
}
