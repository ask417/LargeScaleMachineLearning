{
 "cells": [
  {
   "cell_type": "markdown",
   "metadata": {},
   "source": [
    "## HW6.0. \n",
    "* In mathematics, computer science, economics, or management science what is mathematical optimization? Give an example of a optimization problem that you have worked with directly or that your organization has worked on. Please describe the objective function and the decision variables. Was the project successful (deployed in the real world)? Describe.\n",
    "\n",
    "    Optimization essentially means creating some sort of objective function, and then finding the roots of this function, so as to find the inputs that result in the min/max value of this objective function.  An example of this in my line of work would be finding the optimal amount of money better than value price at which my team would purchase an option.  For example, an optin we think is worth \\$1.00 might sell for \\$.98, but this option may lose value in the future, so there tends to be a sweet spot for much edge we require.\n",
    "\n",
    "\n"
   ]
  },
  {
   "cell_type": "markdown",
   "metadata": {},
   "source": [
    "## HW6.1  Optimization theory: \n",
    "* For unconstrained univariate optimization what are the first order  Necessary Conditions for Optimality (FOC).  What are the second order optimality conditions (SOC)? Give a mathematical defintion. Also in python, plot the univartiate function \n",
    "$$X^3 -12x^2-6$$ defined over $[-6, 6]$\n",
    "\n",
    "* Also plot its corresponding first and second derivative functions. Eyeballing these graphs, identify candidate optimal points and then classify them as local minimums or maximums. Highlight and label these points in your graphs. Justify your responses using the FOC and SOC.\n",
    "\n",
    "* For unconstrained multi-variate optimization what are the first order  Necessary Conditions for Optimality (FOC).  What are the second order optimality conditions (SOC)? Give a mathematical defintion. What is the Hessian matrix in this context?\n"
   ]
  },
  {
   "cell_type": "markdown",
   "metadata": {},
   "source": [
    "The optimal  points on this grpah appear to be around x={0,8}.  This is consistent with f'(0) and f'(8) being equal to 0, and we also see that f'' is equal to -24 for x=0, and 24 for x=8, meaning that f is a maximum at x=0 and a minimum at x=8.  \n",
    "\n",
    "\n",
    "#### Unconstrainted Univariate Optimization: \n",
    "\n",
    "First order conditions:\n",
    "\n",
    "* f'(x) = 0\n",
    "\n",
    "Second order conditions:\n",
    "\n",
    "* f''(x) < 0 => maximum\n",
    "* f''(x) > 0 => minimum\n",
    "* f''(x) = 0 => undefined\n",
    "\n",
    "\n",
    "#### Unconstrainted Multivariate Optimization: \n",
    "\n",
    "The Hessian matrix of a function is the NxN matrix of it's second-order partial derivatives for every i,j such that i,j belong to {0,N}.\n",
    "\n",
    "A multivariate function has an extrema under the following conditions:\n",
    "\n",
    "* If the Hessian is positive definite (equivalently, has all eigenvalues positive) at (a, b, ...), then f attains a local minimum at (a, b, ...).\n",
    "* If the Hessian is negative definite (equivalently, has all eigenvalues negative) at (a, b, ...), then f attains a local maximum at (a, b, ...).\n",
    "* If the Hessian has both positive and negative eigenvalues then (a, b, ...) is a saddle point for f (and in fact this is true even if (a, b, ...) is degenerate)."
   ]
  },
  {
   "cell_type": "code",
   "execution_count": 21,
   "metadata": {
    "collapsed": false
   },
   "outputs": [
    {
     "data": {
      "text/plain": [
       "[<matplotlib.lines.Line2D at 0x109dfd4d0>]"
      ]
     },
     "execution_count": 21,
     "metadata": {},
     "output_type": "execute_result"
    },
    {
     "data": {
      "image/png": "[encoded data removed]",
      "text/plain": [
       "<matplotlib.figure.Figure at 0x1129e2990>"
      ]
     },
     "metadata": {},
     "output_type": "display_data"
    }
   ],
   "source": [
    "%matplotlib inline\n",
    "\n",
    "import numpy as np\n",
    "import matplotlib.pyplot as plt\n",
    "\n",
    "\n",
    "x = np.linspace(-5,10,100) # 100 linearly spaced numbers\n",
    "y = x**3 -12*x**2-6 # computing the values of sin(x)/x\n",
    "y_p = 3*x**2-24*x\n",
    "y_pp = 6*x-24\n",
    "\n",
    "# compose plot\n",
    "\n",
    "fig, ax = plt.subplots()\n",
    "ax.plot(x, y)\n",
    "ax.plot(x, y_p)\n",
    "ax.plot(x,y_pp)\n",
    "#ax.set_aspect('equal')\n",
    "#ax.grid(True, which='both')\n",
    "\n",
    "ax.axhline(y=0, color='k')\n",
    "ax.axvline(x=0, color='k')\n",
    "\n",
    "data_x = [0, 8]\n",
    "data_y = [-6, -260]\n",
    "ax.plot(data_x, data_y, 'or')"
   ]
  },
  {
   "cell_type": "markdown",
   "metadata": {},
   "source": [
    "\n",
    "## HW6.2\n",
    "* Taking x=1 as the first approximation(xt1) of a root of $X^3 + 2x -4 = 0$, use the Newton-Raphson method to calculate the second approximation (denoted as xt2) of this root. (Hint the solution is xt2=1.2)\n",
    "\n",
    "\n"
   ]
  },
  {
   "cell_type": "markdown",
   "metadata": {
    "collapsed": true
   },
   "source": [
    "f'(x) = 3x^2 + 2\n",
    "x1 = x0 - f(x0)/f'(x0)\n",
    "\n",
    "x0 = 1\n",
    "\n",
    "x2 = 1 - (-1)/5 = 1.2\n",
    "x3 = 1.2 - f(1.2)/f'(1.2) = 1.2 - (.128)/6.32 = 1.18"
   ]
  },
  {
   "cell_type": "markdown",
   "metadata": {},
   "source": [
    "\n",
    "\n",
    "## HW6.3 Convex optimization \n",
    "* What makes an optimization problem convex? What are the first order  Necessary Conditions for Optimality in convex optimization.  What are the second order optimality conditions for convex optimization? Are both necessary to determine the maximum or minimum of candidate optimal solutions?\n",
    "\n",
    "Fill in the BLANKS here:\n",
    "Convex minimization, a subfield of optimization, studies the problem of minimizing **BLANK** functions over **BLANK** sets. The **BLANK** property can make optimization in some sense \"easier\" than the general case - for example, any local minimum must be a global minimum.\n"
   ]
  },
  {
   "cell_type": "markdown",
   "metadata": {
    "collapsed": true
   },
   "source": [
    "An optimization problem is convex if the objective function is a convex function and if the inputs x belong to a convex set.  The first and second order optimality conditions are the same as non-convex optimization, but the key difference is that for convex optimization a local minimum/maximum is automatically a global min/max, which is what makes algorithms like gradient descent work.\n",
    "\n",
    "Convex minimization, a subfield of optimization, studies the problem of minimizing convex functions over convex sets. The convexity property can make optimization in some sense \"easier\" than the general case - for example, any local minimum must be a global minimum."
   ]
  },
  {
   "cell_type": "markdown",
   "metadata": {},
   "source": [
    "\n",
    "## HW 6.4\n",
    "\n",
    "The learning objective function for weighted ordinary least squares (WOLS) (aka weight linear regression) is defined as follows:\n",
    "\n",
    "$$0.5* \\sum_{i=1}^n (weight_i * (W * X_i - y_i)^2)$$\n",
    "\n",
    "Where training set consists of input variables X ( in vector form) and a target variable y, and W is the vector of coefficients for the linear regression model.\n",
    "\n",
    "Derive the gradient for this weighted OLS by hand; showing each step and also explaining each step.\n"
   ]
  },
  {
   "cell_type": "markdown",
   "metadata": {
    "collapsed": true
   },
   "source": [
    "$$d_{weight} = 0.5* \\sum_{i=1}^n (W * X_i - y_i)^2$$\n",
    "\n",
    "$$d_{weight} = 0.5* \\sum_{i=1}^n (W * X_i - y_i)^2$$\n",
    "\n",
    "$$d_x =  \\sum_{i=1}^n (weight_i * (W * X_i - y_i) * W)$$"
   ]
  },
  {
   "cell_type": "markdown",
   "metadata": {},
   "source": [
    "\n",
    "## HW 6.5\n",
    "Write a MapReduce job in MRJob to do the training at scale of a weighted OLS model using gradient descent. <br>\n",
    "Generate one million datapoints just like in the following notebook:  http://nbviewer.ipython.org/urls/dl.dropbox.com/s/kritdm3mo1daolj/MrJobLinearRegressionGD.ipynb\n",
    "\n",
    "Weight each example as follows: \n",
    "\n",
    "$$weight(x)= abs(1/x)$$\n",
    "\n",
    "Sample 1% of the data in MapReduce and use the sampled dataset to train a (weighted if available in SciKit-Learn) linear regression model locally using  SciKit-Learn (http://scikit-learn.org/stable/modules/generated/sklearn.linear_model.LinearRegression.html)\n",
    "\n",
    "Plot the resulting weighted linear regression model versus the original model that you used to generate the data. Comment on your findings.\n",
    "\n",
    "## HW6.5.1 (OPTIONAL)\n",
    "Using MRJob and in Python, plot the error surface for the weighted linear regression model using a heatmap and contour plot. \n",
    "Also plot the current model in the original domain space.  (Plot them side by side if possible)\n",
    "Plot the path to convergence (during training) for the weighted linear regression model in plot error space and in the original domain space. Make sure to label your plots with iteration numbers, function, model space versus original domain space, etc.\n",
    "Comment on convergence and on the mean squared error using your weighted OLS algorithm on the weighted dataset versus using the weighted OLS algorithm on the uniformly weighted dataset.\n",
    "\n"
   ]
  },
  {
   "cell_type": "code",
   "execution_count": 2,
   "metadata": {
    "collapsed": false
   },
   "outputs": [
    {
     "data": {
      "image/png": "[encoded data removed]",
      "text/plain": [
       "<matplotlib.figure.Figure at 0x104027690>"
      ]
     },
     "metadata": {},
     "output_type": "display_data"
    }
   ],
   "source": [
    " %matplotlib inline\n",
    "import numpy as np\n",
    "import pylab \n",
    "size = 1000\n",
    "x = np.random.uniform(-4, 4, size)\n",
    "y = x * 1.0 - 4 + np.random.normal(0,0.5,size)\n",
    "data = zip(y,x)\n",
    "np.savetxt('LinearRegression.csv',data,delimiter = \",\")\n",
    "\n",
    "pylab.plot(x, y,'*')\n",
    "pylab.show()"
   ]
  },
  {
   "cell_type": "code",
   "execution_count": 15,
   "metadata": {
    "collapsed": false
   },
   "outputs": [
    {
     "name": "stdout",
     "output_type": "stream",
     "text": [
      "Overwriting MrJobBatchGDUpdate_LinearRegression.py\n"
     ]
    }
   ],
   "source": [
    "%%writefile MrJobBatchGDUpdate_LinearRegression.py\n",
    "from mrjob.job import MRJob\n",
    "\n",
    "# This MrJob calculates the gradient of the entire training set \n",
    "#     Mapper: calculate partial gradient for each example  \n",
    "#     \n",
    "class MrJobBatchGDUpdate_LinearRegression(MRJob):\n",
    "    # run before the mapper processes any input\n",
    "    def read_weightsfile(self):\n",
    "        # Read weights file\n",
    "        with open('/Users/AnthonySpalvieriKruse/VirtualBoxShared/HW6/weights.txt', 'r') as f:\n",
    "            self.weights = [float(v) for v in f.readline().split(',')]\n",
    "        # Initialze gradient for this iteration\n",
    "        self.partial_Gradient = [0]*len(self.weights)\n",
    "        self.partial_count = 0\n",
    "    \n",
    "    # Calculate partial gradient for each example \n",
    "    def partial_gradient(self, _, line):\n",
    "        D = (map(float,line.split(',')))\n",
    "        # y_hat is the predicted value given current weights\n",
    "        y_hat = self.weights[0]+self.weights[1]*D[1]\n",
    "        # Update parial gradient vector with gradient form current example\n",
    "        self.partial_Gradient =  [self.partial_Gradient[0]+ D[0]-y_hat, self.partial_Gradient[1]+(D[0]-y_hat)*D[1]]\n",
    "        self.partial_count = self.partial_count + 1\n",
    "        #yield None, (D[0]-y_hat,(D[0]-y_hat)*D[1],1)\n",
    "    \n",
    "    # Finally emit in-memory partial gradient and partial count\n",
    "    def partial_gradient_emit(self):\n",
    "        yield None, (self.partial_Gradient,self.partial_count)\n",
    "        \n",
    "    # Accumulate partial gradient from mapper and emit total gradient \n",
    "    # Output: key = None, Value = gradient vector\n",
    "    def gradient_accumulater(self, _, partial_Gradient_Record): \n",
    "        total_gradient = [0]*2\n",
    "        total_count = 0\n",
    "        for partial_Gradient,partial_count in partial_Gradient_Record:\n",
    "            total_count = total_count + partial_count\n",
    "            total_gradient[0] = total_gradient[0] + partial_Gradient[0]\n",
    "            total_gradient[1] = total_gradient[1] + partial_Gradient[1]\n",
    "        yield None, [v/total_count for v in total_gradient]\n",
    "    \n",
    "    def steps(self):\n",
    "        return [self.mr(mapper_init=self.read_weightsfile,\n",
    "                       mapper=self.partial_gradient,\n",
    "                       mapper_final=self.partial_gradient_emit,\n",
    "                       reducer=self.gradient_accumulater)] \n",
    "    \n",
    "if __name__ == '__main__':\n",
    "    MrJobBatchGDUpdate_LinearRegression.run()"
   ]
  },
  {
   "cell_type": "code",
   "execution_count": 17,
   "metadata": {
    "collapsed": false
   },
   "outputs": [
    {
     "name": "stdout",
     "output_type": "stream",
     "text": [
      "iteration =0  weights = [-0.34818881 -0.01320189]\n",
      "iteration =1  weights = [-0.53610473  0.27933931]\n",
      "iteration =2  weights = [-0.71338923  0.49059638]\n",
      "iteration =3  weights = [-0.88091722  0.6429789 ]\n",
      "iteration =4  weights = [-1.03942517  0.75272696]\n",
      "iteration =5  weights = [-1.18954418  0.83160919]\n",
      "iteration =6  weights = [-1.33182406  0.88815353]\n",
      "iteration =7  weights = [-1.46675112  0.92853918]\n",
      "iteration =8  weights = [-1.59476124  0.95724313]\n",
      "iteration =9  weights = [-1.71624962  0.97750873]\n",
      "iteration =10  weights = [-1.83157799  0.99168528]\n",
      "iteration =11  weights = [-1.94108005  1.00147413]\n",
      "iteration =12  weights = [-2.04506567  1.00810715]\n",
      "iteration =13  weights = [-2.14382399  1.01247594]\n",
      "iteration =14  weights = [-2.23762595  1.01522556]\n",
      "iteration =15  weights = [-2.32672619  1.01682244]\n",
      "iteration =16  weights = [-2.41136467  1.01760362]\n",
      "iteration =17  weights = [-2.49176793  1.01781237]\n",
      "iteration =18  weights = [-2.56815015  1.01762408]\n",
      "iteration =19  weights = [-2.64071405  1.01716498]\n",
      "iteration =20  weights = [-2.7096517  1.0165257]\n",
      "iteration =21  weights = [-2.77514516  1.01577114]\n",
      "iteration =22  weights = [-2.83736713  1.01494757]\n",
      "iteration =23  weights = [-2.89648149  1.01408778]\n",
      "iteration =24  weights = [-2.95264376  1.01321487]\n",
      "iteration =25  weights = [-3.0060016   1.01234492]\n",
      "iteration =26  weights = [-3.05669523  1.01148896]\n",
      "iteration =27  weights = [-3.10485779  1.0106544 ]\n",
      "iteration =28  weights = [-3.15061575  1.00984603]\n",
      "iteration =29  weights = [-3.19408922  1.00906681]\n",
      "iteration =30  weights = [-3.23539231  1.00831836]\n",
      "iteration =31  weights = [-3.27463341  1.00760139]\n",
      "iteration =32  weights = [-3.31191548  1.00691594]\n",
      "iteration =33  weights = [-3.34733634  1.00626162]\n",
      "iteration =34  weights = [-3.38098892  1.00563772]\n",
      "iteration =35  weights = [-3.41296151  1.00504334]\n",
      "iteration =36  weights = [-3.44333798  1.00447746]\n",
      "iteration =37  weights = [-3.47219802  1.00393897]\n",
      "iteration =38  weights = [-3.49961733  1.00342674]\n",
      "iteration =39  weights = [-3.52566784  1.00293964]\n",
      "iteration =40  weights = [-3.55041788  1.00247653]\n",
      "iteration =41  weights = [-3.57393237  1.0020363 ]\n",
      "iteration =42  weights = [-3.596273    1.00161788]\n",
      "iteration =43  weights = [-3.61749836  1.00122022]\n",
      "iteration =44  weights = [-3.63766414  1.00084232]\n",
      "iteration =45  weights = [-3.65682322  1.00048323]\n",
      "iteration =46  weights = [-3.67502587  1.00014201]\n",
      "iteration =47  weights = [-3.69231982  0.99981779]\n",
      "iteration =48  weights = [-3.70875045  0.99950974]\n",
      "iteration =49  weights = [-3.72436084  0.99921704]\n",
      "iteration =50  weights = [-3.73919196  0.99893894]\n",
      "iteration =51  weights = [-3.75328269  0.99867472]\n",
      "iteration =52  weights = [-3.76667     0.99842368]\n",
      "iteration =53  weights = [-3.77938901  0.99818516]\n",
      "iteration =54  weights = [-3.79147307  0.99795855]\n",
      "iteration =55  weights = [-3.80295389  0.99774325]\n",
      "iteration =56  weights = [-3.81386157  0.9975387 ]\n",
      "iteration =57  weights = [-3.82422474  0.99734436]\n",
      "iteration =58  weights = [-3.83407056  0.99715971]\n",
      "iteration =59  weights = [-3.84342488  0.99698429]\n",
      "iteration =60  weights = [-3.85231222  0.99681762]\n",
      "iteration =61  weights = [-3.8607559   0.99665927]\n",
      "iteration =62  weights = [-3.86877806  0.99650882]\n",
      "iteration =63  weights = [-3.87639975  0.99636589]\n",
      "iteration =64  weights = [-3.88364096  0.99623009]\n",
      "iteration =65  weights = [-3.89052069  0.99610107]\n",
      "iteration =66  weights = [-3.89705697  0.99597849]\n",
      "iteration =67  weights = [-3.90326695  0.99586203]\n",
      "iteration =68  weights = [-3.90916693  0.99575138]\n",
      "iteration =69  weights = [-3.91477238  0.99564626]\n",
      "iteration =70  weights = [-3.92009799  0.99554638]\n",
      "iteration =71  weights = [-3.92515775  0.99545149]\n",
      "iteration =72  weights = [-3.92996493  0.99536134]\n",
      "iteration =73  weights = [-3.93453212  0.99527569]\n",
      "iteration =74  weights = [-3.93887132  0.99519431]\n",
      "iteration =75  weights = [-3.9429939  0.995117 ]\n",
      "iteration =76  weights = [-3.94691067  0.99504354]\n",
      "iteration =77  weights = [-3.95063192  0.99497375]\n",
      "iteration =78  weights = [-3.9541674   0.99490745]\n",
      "iteration =79  weights = [-3.95752639  0.99484446]\n",
      "iteration =80  weights = [-3.96071769  0.99478461]\n",
      "iteration =81  weights = [-3.96374969  0.99472775]\n",
      "iteration =82  weights = [-3.96663032  0.99467372]\n",
      "iteration =83  weights = [-3.96936715  0.9946224 ]\n",
      "iteration =84  weights = [-3.97196735  0.99457363]\n",
      "iteration =85  weights = [-3.97443775  0.9945273 ]\n",
      "iteration =86  weights = [-3.97678483  0.99448329]\n",
      "Final weights\n",
      "\n",
      "[-3.97901473  0.99444147]\n"
     ]
    }
   ],
   "source": [
    "from numpy import random,array\n",
    "from MrJobBatchGDUpdate_LinearRegression import MrJobBatchGDUpdate_LinearRegression\n",
    "\n",
    "learning_rate = 0.05\n",
    "stop_criteria = 0.000005\n",
    "\n",
    "# Generate random values as inital weights\n",
    "weights = array([random.uniform(-3,3),random.uniform(-3,3)])\n",
    "# Write the weights to the files\n",
    "with open('weights.txt', 'w+') as f:\n",
    "    f.writelines(','.join(str(j) for j in weights))\n",
    "\n",
    "# create a mrjob instance for batch gradient descent update over all data\n",
    "mr_job = MrJobBatchGDUpdate_LinearRegression(args=['LinearRegression.csv', \"--file\", \"/Users/AnthonySpalvieriKruse/VirtualBoxShared/HW6/weights.txt\"])\n",
    "# Update centroids iteratively\n",
    "i = 0\n",
    "while(1):\n",
    "    print \"iteration =\"+str(i)+\"  weights =\",weights\n",
    "    # Save weights from previous iteration\n",
    "    weights_old = weights\n",
    "    with mr_job.make_runner() as runner: \n",
    "        runner.run()\n",
    "        # stream_output: get access of the output \n",
    "        for line in runner.stream_output():\n",
    "            # value is the gradient value\n",
    "            key,value =  mr_job.parse_output_line(line)\n",
    "            # Update weights\n",
    "            weights = weights + learning_rate*array(value)\n",
    "    i = i + 1\n",
    "    ## Write the updated weights to file \n",
    "    with open('weights.txt', 'w+') as f:\n",
    "        f.writelines(','.join(str(j) for j in weights))\n",
    "    #Stop if weights get converged\n",
    "    if(sum((weights_old-weights)**2)<stop_criteria):\n",
    "        break\n",
    "        \n",
    "print \"Final weights\\n\"\n",
    "print weights"
   ]
  },
  {
   "cell_type": "markdown",
   "metadata": {},
   "source": [
    "\n",
    "## HW6.6 Clean up notebook for GMM via EM\n",
    "\n",
    "Using the following notebook as a starting point:\n",
    "\n",
    "http://nbviewer.jupyter.org/urls/dl.dropbox.com/s/0t7985e40fovlkw/EM-GMM-MapReduce%20Design%201.ipynb \n",
    "\n",
    "Improve this notebook as follows:\n",
    "-- Add in equations into the notebook (not images of equations) \n",
    "-- Number the equations\n",
    "-- Make sure the equation notation matches the code and the code and comments refer to the equations numbers\n",
    "-- Comment the code\n",
    "-- Rename/Reorganize the code to make it more readable\n",
    "-- Rerun the examples similar graphics (or possibly better graphics)\n"
   ]
  },
  {
   "cell_type": "code",
   "execution_count": null,
   "metadata": {
    "collapsed": true
   },
   "outputs": [],
   "source": []
  },
  {
   "cell_type": "markdown",
   "metadata": {},
   "source": [
    "## HW6.7  Implement Bernoulli Mixture Model via EM\n",
    "Implement the EM clustering algorithm to determine Bernoulli Mixture Model for discrete data in MRJob.\n",
    "\n",
    "As a unit test use the dataset in the following slides:\n",
    "\n",
    "https://www.dropbox.com/s/maoj9jidxj1xf5l/MIDS-Live-Lecture-06-EM-Bernouilli-MM-Systems-Test.pdf?dl=0\n",
    "\n",
    "Cross-check that you get the same cluster assignments and cluster Bernouilli models as presented in the slides after 25 iterations. Dont forget the smoothing.\n",
    "\n",
    "As a full test: use the same dataset from HW 4.5, the Tweet Dataset. \n",
    "Using this data, you will implement a 1000-dimensional EM-based Bernoulli Mixture Model  algorithm in MrJob on the users\n",
    "by their 1000-dimensional word stripes/vectors using K = 4.  Use the same smoothing as in the unit test.\n",
    "\n",
    "Repeat this experiment using your KMeans MRJob implementation fron HW4.\n",
    "Report the rand index score using the class code as ground truth label for both algorithms and comment on your findings.\n",
    "\n",
    "Here is some more information on the Tweet Dataset.\n",
    "\n",
    "Here you will use a different dataset consisting of word-frequency distributions \n",
    "for 1,000 Twitter users. These Twitter users use language in very different ways,\n",
    "and were classified by hand according to the criteria:\n",
    "\n",
    "0: Human, where only basic human-human communication is observed.\n",
    "\n",
    "1: Cyborg, where language is primarily borrowed from other sources\n",
    "(e.g., jobs listings, classifieds postings, advertisements, etc...).\n",
    "\n",
    "2: Robot, where language is formulaically derived from unrelated sources\n",
    "(e.g., weather/seismology, police/fire event logs, etc...).\n",
    "\n",
    "3: Spammer, where language is replicated to high multiplicity\n",
    "(e.g., celebrity obsessions, personal promotion, etc... )\n",
    "\n",
    "Check out the preprints of  recent research,\n",
    "which spawned this dataset:\n",
    "\n",
    "http://arxiv.org/abs/1505.04342\n",
    "http://arxiv.org/abs/1508.01843\n",
    "\n",
    "The main data lie in the accompanying file:\n",
    "\n",
    "topUsers_Apr-Jul_2014_1000-words.txt\n",
    "\n",
    "and are of the form:\n",
    "\n",
    "USERID,CODE,TOTAL,WORD1_COUNT,WORD2_COUNT,...\n",
    ".\n",
    ".\n",
    "\n",
    "where\n",
    "\n",
    "USERID = unique user identifier\n",
    "CODE = 0/1/2/3 class code\n",
    "TOTAL = sum of the word counts\n",
    "\n",
    "Using this data, you will implement a 1000-dimensional K-means algorithm in MrJob on the users\n",
    "by their 1000-dimensional word stripes/vectors using several \n",
    "centroid initializations and values of K.\n",
    "\n",
    "\n"
   ]
  },
  {
   "cell_type": "code",
   "execution_count": null,
   "metadata": {
    "collapsed": true
   },
   "outputs": [],
   "source": []
  }
 ],
 "metadata": {
  "kernelspec": {
   "display_name": "Python 2",
   "language": "python",
   "name": "python2"
  },
  "language_info": {
   "codemirror_mode": {
    "name": "ipython",
    "version": 2
   },
   "file_extension": ".py",
   "mimetype": "text/x-python",
   "name": "python",
   "nbconvert_exporter": "python",
   "pygments_lexer": "ipython2",
   "version": "2.7.11"
  }
 },
 "nbformat": 4,
 "nbformat_minor": 0
}
